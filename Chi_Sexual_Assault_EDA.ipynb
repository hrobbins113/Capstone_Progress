{
 "cells": [
  {
   "cell_type": "code",
   "execution_count": 42,
   "metadata": {},
   "outputs": [],
   "source": [
    "import pandas as pd\n",
    "import numpy as np\n",
    "import matplotlib.pyplot as plt\n",
    "% matplotlib inline\n",
    "from geopy.distance import vincenty\n",
    "from datetime import datetime, timedelta\n",
    "from sklearn.cross_validation import train_test_split\n",
    "from sklearn.ensemble import RandomForestClassifier\n",
    "from sklearn.grid_search import GridSearchCV\n",
    "from sklearn.metrics import classification_report, confusion_matrix, accuracy_score\n",
    "\n",
    "df = pd.read_csv('Crimes_-_2001_to_present.csv')"
   ]
  },
  {
   "cell_type": "code",
   "execution_count": 43,
   "metadata": {
    "collapsed": true
   },
   "outputs": [],
   "source": [
    "def dummy(domestic):   \n",
    "    try: \n",
    "        if domestic == False:\n",
    "            return 0\n",
    "        else: \n",
    "            return 1\n",
    "    except:\n",
    "        pass"
   ]
  },
  {
   "cell_type": "code",
   "execution_count": 44,
   "metadata": {
    "collapsed": true
   },
   "outputs": [],
   "source": [
    "df['domestic_dummied'] = df['Domestic'].apply(dummy)\n",
    "df['Arrest_Dummied'] = df['Arrest'].apply(dummy)"
   ]
  },
  {
   "cell_type": "code",
   "execution_count": 45,
   "metadata": {},
   "outputs": [
    {
     "data": {
      "text/plain": [
       "0    20996\n",
       "1     3164\n",
       "Name: domestic_dummied, dtype: int64"
      ]
     },
     "execution_count": 45,
     "metadata": {},
     "output_type": "execute_result"
    }
   ],
   "source": [
    "df['domestic_dummied'].value_counts()"
   ]
  },
  {
   "cell_type": "code",
   "execution_count": 46,
   "metadata": {},
   "outputs": [
    {
     "data": {
      "text/plain": [
       "0    20199\n",
       "1     3961\n",
       "Name: Arrest_Dummied, dtype: int64"
      ]
     },
     "execution_count": 46,
     "metadata": {},
     "output_type": "execute_result"
    }
   ],
   "source": [
    "df['Arrest_Dummied'].value_counts()"
   ]
  },
  {
   "cell_type": "code",
   "execution_count": 47,
   "metadata": {
    "collapsed": true
   },
   "outputs": [],
   "source": [
    "df.drop('FBI Code', axis=1, inplace = True)\n",
    "df.drop('Updated On', axis=1, inplace = True)\n",
    "df.drop('Primary Type', axis=1, inplace = True)\n",
    "df.drop('IUCR', axis=1, inplace= True)\n",
    "df.drop('X Coordinate', axis=1, inplace= True)\n",
    "df.drop('Y Coordinate', axis=1, inplace= True)\n",
    "df.drop('Location', axis=1, inplace= True)\n",
    "df.drop('Block', axis=1, inplace= True)"
   ]
  },
  {
   "cell_type": "code",
   "execution_count": 48,
   "metadata": {
    "collapsed": true
   },
   "outputs": [],
   "source": [
    "df.dropna(subset=['Latitude', 'Longitude'], how='all', inplace=True)"
   ]
  },
  {
   "cell_type": "code",
   "execution_count": 49,
   "metadata": {
    "collapsed": true
   },
   "outputs": [],
   "source": [
    "df['Location Description'].fillna('RESIDENCE', inplace=True)"
   ]
  },
  {
   "cell_type": "code",
   "execution_count": 50,
   "metadata": {
    "collapsed": true
   },
   "outputs": [],
   "source": [
    "df['District'].dropna(how='all', inplace=True)"
   ]
  },
  {
   "cell_type": "code",
   "execution_count": 51,
   "metadata": {},
   "outputs": [
    {
     "data": {
      "text/plain": [
       "(22750, 16)"
      ]
     },
     "execution_count": 51,
     "metadata": {},
     "output_type": "execute_result"
    }
   ],
   "source": [
    "df.shape"
   ]
  },
  {
   "cell_type": "code",
   "execution_count": 52,
   "metadata": {
    "collapsed": true
   },
   "outputs": [],
   "source": [
    "df['District'].replace(' ', np.nan, inplace=True)"
   ]
  },
  {
   "cell_type": "code",
   "execution_count": 53,
   "metadata": {
    "collapsed": true
   },
   "outputs": [],
   "source": [
    "df.dropna(subset=['District'], inplace=True)"
   ]
  },
  {
   "cell_type": "code",
   "execution_count": 54,
   "metadata": {},
   "outputs": [
    {
     "data": {
      "text/html": [
       "<div>\n",
       "<table border=\"1\" class=\"dataframe\">\n",
       "  <thead>\n",
       "    <tr style=\"text-align: right;\">\n",
       "      <th></th>\n",
       "      <th>DISTRICT</th>\n",
       "      <th>DISTRICT NAME</th>\n",
       "      <th>ADDRESS</th>\n",
       "      <th>CITY</th>\n",
       "      <th>STATE</th>\n",
       "      <th>ZIP</th>\n",
       "      <th>WEBSITE</th>\n",
       "      <th>PHONE</th>\n",
       "      <th>FAX</th>\n",
       "      <th>TTY</th>\n",
       "      <th>X COORDINATE</th>\n",
       "      <th>Y COORDINATE</th>\n",
       "      <th>LATITUDE</th>\n",
       "      <th>LONGITUDE</th>\n",
       "      <th>LOCATION</th>\n",
       "    </tr>\n",
       "  </thead>\n",
       "  <tbody>\n",
       "    <tr>\n",
       "      <th>0</th>\n",
       "      <td>1</td>\n",
       "      <td>Central</td>\n",
       "      <td>1718 S State St</td>\n",
       "      <td>Chicago</td>\n",
       "      <td>IL</td>\n",
       "      <td>60616</td>\n",
       "      <td>http://home.chicagopolice.org/community/distri...</td>\n",
       "      <td>312-745-4290</td>\n",
       "      <td>312-745-3694</td>\n",
       "      <td>312-745-3693</td>\n",
       "      <td>1176569.052</td>\n",
       "      <td>1891771.704</td>\n",
       "      <td>41.858373</td>\n",
       "      <td>-87.627356</td>\n",
       "      <td>(41.8583725929, -87.627356171)</td>\n",
       "    </tr>\n",
       "    <tr>\n",
       "      <th>1</th>\n",
       "      <td>2</td>\n",
       "      <td>Wentworth</td>\n",
       "      <td>5101 S Wentworth Ave</td>\n",
       "      <td>Chicago</td>\n",
       "      <td>IL</td>\n",
       "      <td>60609</td>\n",
       "      <td>http://home.chicagopolice.org/community/distri...</td>\n",
       "      <td>312-747-8366</td>\n",
       "      <td>312-747-5396</td>\n",
       "      <td>312-747-6656</td>\n",
       "      <td>1175864.837</td>\n",
       "      <td>1871153.753</td>\n",
       "      <td>41.801811</td>\n",
       "      <td>-87.630560</td>\n",
       "      <td>(41.8018110912, -87.6305601801)</td>\n",
       "    </tr>\n",
       "    <tr>\n",
       "      <th>2</th>\n",
       "      <td>3</td>\n",
       "      <td>Grand Crossing</td>\n",
       "      <td>7040 S Cottage Grove Ave</td>\n",
       "      <td>Chicago</td>\n",
       "      <td>IL</td>\n",
       "      <td>60637</td>\n",
       "      <td>http://home.chicagopolice.org/community/distri...</td>\n",
       "      <td>312-747-8201</td>\n",
       "      <td>312-747-5479</td>\n",
       "      <td>312-747-9168</td>\n",
       "      <td>1182739.183</td>\n",
       "      <td>1858317.732</td>\n",
       "      <td>41.766431</td>\n",
       "      <td>-87.605748</td>\n",
       "      <td>(41.7664308925, -87.6057478606)</td>\n",
       "    </tr>\n",
       "    <tr>\n",
       "      <th>3</th>\n",
       "      <td>4</td>\n",
       "      <td>South Chicago</td>\n",
       "      <td>2255 E 103rd St</td>\n",
       "      <td>Chicago</td>\n",
       "      <td>IL</td>\n",
       "      <td>60617</td>\n",
       "      <td>http://home.chicagopolice.org/community/distri...</td>\n",
       "      <td>312-747-7581</td>\n",
       "      <td>312-747-5276</td>\n",
       "      <td>312-747-9169</td>\n",
       "      <td>1193131.299</td>\n",
       "      <td>1837090.265</td>\n",
       "      <td>41.707933</td>\n",
       "      <td>-87.568349</td>\n",
       "      <td>(41.7079332906, -87.5683491228)</td>\n",
       "    </tr>\n",
       "    <tr>\n",
       "      <th>4</th>\n",
       "      <td>5</td>\n",
       "      <td>Calumet</td>\n",
       "      <td>727 E 111th St</td>\n",
       "      <td>Chicago</td>\n",
       "      <td>IL</td>\n",
       "      <td>60628</td>\n",
       "      <td>http://home.chicagopolice.org/community/distri...</td>\n",
       "      <td>312-747-8210</td>\n",
       "      <td>312-747-5935</td>\n",
       "      <td>312-747-9170</td>\n",
       "      <td>1183305.427</td>\n",
       "      <td>1831462.313</td>\n",
       "      <td>41.692723</td>\n",
       "      <td>-87.604506</td>\n",
       "      <td>(41.6927233639, -87.6045058667)</td>\n",
       "    </tr>\n",
       "  </tbody>\n",
       "</table>\n",
       "</div>"
      ],
      "text/plain": [
       "  DISTRICT   DISTRICT NAME                   ADDRESS     CITY STATE    ZIP  \\\n",
       "0        1         Central           1718 S State St  Chicago    IL  60616   \n",
       "1        2       Wentworth      5101 S Wentworth Ave  Chicago    IL  60609   \n",
       "2        3  Grand Crossing  7040 S Cottage Grove Ave  Chicago    IL  60637   \n",
       "3        4   South Chicago           2255 E 103rd St  Chicago    IL  60617   \n",
       "4        5         Calumet            727 E 111th St  Chicago    IL  60628   \n",
       "\n",
       "                                             WEBSITE         PHONE  \\\n",
       "0  http://home.chicagopolice.org/community/distri...  312-745-4290   \n",
       "1  http://home.chicagopolice.org/community/distri...  312-747-8366   \n",
       "2  http://home.chicagopolice.org/community/distri...  312-747-8201   \n",
       "3  http://home.chicagopolice.org/community/distri...  312-747-7581   \n",
       "4  http://home.chicagopolice.org/community/distri...  312-747-8210   \n",
       "\n",
       "            FAX           TTY  X COORDINATE  Y COORDINATE   LATITUDE  \\\n",
       "0  312-745-3694  312-745-3693   1176569.052   1891771.704  41.858373   \n",
       "1  312-747-5396  312-747-6656   1175864.837   1871153.753  41.801811   \n",
       "2  312-747-5479  312-747-9168   1182739.183   1858317.732  41.766431   \n",
       "3  312-747-5276  312-747-9169   1193131.299   1837090.265  41.707933   \n",
       "4  312-747-5935  312-747-9170   1183305.427   1831462.313  41.692723   \n",
       "\n",
       "   LONGITUDE                         LOCATION  \n",
       "0 -87.627356   (41.8583725929, -87.627356171)  \n",
       "1 -87.630560  (41.8018110912, -87.6305601801)  \n",
       "2 -87.605748  (41.7664308925, -87.6057478606)  \n",
       "3 -87.568349  (41.7079332906, -87.5683491228)  \n",
       "4 -87.604506  (41.6927233639, -87.6045058667)  "
      ]
     },
     "execution_count": 54,
     "metadata": {},
     "output_type": "execute_result"
    }
   ],
   "source": [
    "police_stations = pd.read_csv('Police_Stations.csv')\n",
    "police_stations.head()"
   ]
  },
  {
   "cell_type": "code",
   "execution_count": 55,
   "metadata": {
    "collapsed": true
   },
   "outputs": [],
   "source": [
    "def distance_from_police_station(lon, lat):\n",
    "    min_dist = None\n",
    "    for coord in zip(police_stations['LONGITUDE'].values, police_stations['LATITUDE'].values):\n",
    "        if min_dist is None:\n",
    "            min_dist = vincenty((lon, lat), coord, ellipsoid='WGS-84').miles\n",
    "        else:\n",
    "            dist =  vincenty((lon, lat), coord, ellipsoid='WGS-84').miles\n",
    "            if dist < min_dist:\n",
    "                min_dist = dist\n",
    "    return min_dist"
   ]
  },
  {
   "cell_type": "code",
   "execution_count": 56,
   "metadata": {
    "collapsed": true
   },
   "outputs": [],
   "source": [
    "df['nearest_police_station'] = df.apply(lambda x: distance_from_police_station(x['Longitude'], x['Latitude']), axis=1)"
   ]
  },
  {
   "cell_type": "code",
   "execution_count": 57,
   "metadata": {
    "collapsed": true
   },
   "outputs": [],
   "source": [
    "chicago_campuses = pd.read_csv('ChicagoCampusCentralAddress.csv')"
   ]
  },
  {
   "cell_type": "code",
   "execution_count": 58,
   "metadata": {},
   "outputs": [
    {
     "data": {
      "text/html": [
       "<div>\n",
       "<table border=\"1\" class=\"dataframe\">\n",
       "  <thead>\n",
       "    <tr style=\"text-align: right;\">\n",
       "      <th></th>\n",
       "      <th>University/College</th>\n",
       "      <th>Campus</th>\n",
       "      <th>Approx. Student Population</th>\n",
       "      <th>Residence Halls/Student Housing</th>\n",
       "      <th>Max Walking Distance From Central Address</th>\n",
       "      <th>Most Central Address</th>\n",
       "      <th>Latitude</th>\n",
       "      <th>Longitude</th>\n",
       "    </tr>\n",
       "  </thead>\n",
       "  <tbody>\n",
       "    <tr>\n",
       "      <th>0</th>\n",
       "      <td>NaN</td>\n",
       "      <td>NaN</td>\n",
       "      <td>NaN</td>\n",
       "      <td>NaN</td>\n",
       "      <td>NaN</td>\n",
       "      <td>NaN</td>\n",
       "      <td>NaN</td>\n",
       "      <td>NaN</td>\n",
       "    </tr>\n",
       "    <tr>\n",
       "      <th>1</th>\n",
       "      <td>Depaul University</td>\n",
       "      <td>Lincoln Park (Main)</td>\n",
       "      <td>23, 539</td>\n",
       "      <td>Y</td>\n",
       "      <td>0.2</td>\n",
       "      <td>2325 N Seminary, Chicago IL  60614</td>\n",
       "      <td>41.924739</td>\n",
       "      <td>-87.655636</td>\n",
       "    </tr>\n",
       "    <tr>\n",
       "      <th>2</th>\n",
       "      <td>Loyola University</td>\n",
       "      <td>Roger's Park (Main)</td>\n",
       "      <td>16, 437</td>\n",
       "      <td>Y</td>\n",
       "      <td>0.4</td>\n",
       "      <td>1032 W Sheridan Rd, Chicago, IL 60660</td>\n",
       "      <td>41.998508</td>\n",
       "      <td>-87.657758</td>\n",
       "    </tr>\n",
       "    <tr>\n",
       "      <th>3</th>\n",
       "      <td>Chicago State University</td>\n",
       "      <td>Main</td>\n",
       "      <td>4, 767</td>\n",
       "      <td>Y</td>\n",
       "      <td>0.2</td>\n",
       "      <td>9501 S King Dr, Chicago, IL 60628</td>\n",
       "      <td>41.719584</td>\n",
       "      <td>-87.610879</td>\n",
       "    </tr>\n",
       "    <tr>\n",
       "      <th>4</th>\n",
       "      <td>Illinois Institute of Technology</td>\n",
       "      <td>Main</td>\n",
       "      <td>7,792</td>\n",
       "      <td>Y</td>\n",
       "      <td>0.2</td>\n",
       "      <td>3241 S. Wabash, Chicago IL 60616</td>\n",
       "      <td>41.835591</td>\n",
       "      <td>-87.624957</td>\n",
       "    </tr>\n",
       "    <tr>\n",
       "      <th>5</th>\n",
       "      <td>Northeastern University</td>\n",
       "      <td>Main</td>\n",
       "      <td>9,891</td>\n",
       "      <td>Y</td>\n",
       "      <td>0.0</td>\n",
       "      <td>3659 W Bryn Mawr Ave, Chicago, IL 60625</td>\n",
       "      <td>41.979751</td>\n",
       "      <td>-87.719812</td>\n",
       "    </tr>\n",
       "    <tr>\n",
       "      <th>6</th>\n",
       "      <td>Columbia College</td>\n",
       "      <td>Main</td>\n",
       "      <td>8, 961</td>\n",
       "      <td>Y</td>\n",
       "      <td>0.3</td>\n",
       "      <td>731 S Plymouth Ct, Chicago, IL 60605</td>\n",
       "      <td>41.872700</td>\n",
       "      <td>-87.628353</td>\n",
       "    </tr>\n",
       "    <tr>\n",
       "      <th>7</th>\n",
       "      <td>University of Chicago</td>\n",
       "      <td>Hyde Park (Main)</td>\n",
       "      <td>15, 391</td>\n",
       "      <td>Y</td>\n",
       "      <td>0.7</td>\n",
       "      <td>1101 E 58th St # 105, Chicago, IL 60637</td>\n",
       "      <td>41.788972</td>\n",
       "      <td>-87.599263</td>\n",
       "    </tr>\n",
       "    <tr>\n",
       "      <th>8</th>\n",
       "      <td>University of Illinois at Chicago</td>\n",
       "      <td>East</td>\n",
       "      <td>29, 048</td>\n",
       "      <td>Y</td>\n",
       "      <td>0.4</td>\n",
       "      <td>421 S Halsted , Chicago IL 60607</td>\n",
       "      <td>41.868686</td>\n",
       "      <td>-87.647561</td>\n",
       "    </tr>\n",
       "    <tr>\n",
       "      <th>9</th>\n",
       "      <td>University of Illinois at Chicago</td>\n",
       "      <td>West</td>\n",
       "      <td>29,049</td>\n",
       "      <td>Y</td>\n",
       "      <td>0.1</td>\n",
       "      <td>809. S Damen Chicago, IL  60612</td>\n",
       "      <td>41.871063</td>\n",
       "      <td>-87.675879</td>\n",
       "    </tr>\n",
       "    <tr>\n",
       "      <th>10</th>\n",
       "      <td>Roosevelt University</td>\n",
       "      <td>Main</td>\n",
       "      <td>5, 352</td>\n",
       "      <td>Y</td>\n",
       "      <td>0.1</td>\n",
       "      <td>425 S Wabash Ave, Chicago, IL 60605</td>\n",
       "      <td>41.876369</td>\n",
       "      <td>-87.625537</td>\n",
       "    </tr>\n",
       "    <tr>\n",
       "      <th>11</th>\n",
       "      <td>SAIC</td>\n",
       "      <td>Main</td>\n",
       "      <td>3, 591</td>\n",
       "      <td>Y</td>\n",
       "      <td>0.4</td>\n",
       "      <td>36 S Wabash Ave, Chicago, IL 60603</td>\n",
       "      <td>41.880977</td>\n",
       "      <td>-87.626481</td>\n",
       "    </tr>\n",
       "    <tr>\n",
       "      <th>12</th>\n",
       "      <td>NaN</td>\n",
       "      <td>NaN</td>\n",
       "      <td>NaN</td>\n",
       "      <td>NaN</td>\n",
       "      <td>NaN</td>\n",
       "      <td>NaN</td>\n",
       "      <td>NaN</td>\n",
       "      <td>NaN</td>\n",
       "    </tr>\n",
       "    <tr>\n",
       "      <th>13</th>\n",
       "      <td>NaN</td>\n",
       "      <td>NaN</td>\n",
       "      <td>NaN</td>\n",
       "      <td>NaN</td>\n",
       "      <td>NaN</td>\n",
       "      <td>NaN</td>\n",
       "      <td>NaN</td>\n",
       "      <td>NaN</td>\n",
       "    </tr>\n",
       "  </tbody>\n",
       "</table>\n",
       "</div>"
      ],
      "text/plain": [
       "                   University/College               Campus  \\\n",
       "0                                 NaN                  NaN   \n",
       "1                   Depaul University  Lincoln Park (Main)   \n",
       "2                   Loyola University  Roger's Park (Main)   \n",
       "3            Chicago State University                 Main   \n",
       "4    Illinois Institute of Technology                 Main   \n",
       "5             Northeastern University                 Main   \n",
       "6                    Columbia College                 Main   \n",
       "7               University of Chicago     Hyde Park (Main)   \n",
       "8   University of Illinois at Chicago                 East   \n",
       "9   University of Illinois at Chicago                 West   \n",
       "10               Roosevelt University                 Main   \n",
       "11                               SAIC                 Main   \n",
       "12                                NaN                  NaN   \n",
       "13                                NaN                  NaN   \n",
       "\n",
       "   Approx. Student Population Residence Halls/Student Housing  \\\n",
       "0                         NaN                             NaN   \n",
       "1                     23, 539                               Y   \n",
       "2                     16, 437                               Y   \n",
       "3                      4, 767                               Y   \n",
       "4                       7,792                               Y   \n",
       "5                       9,891                               Y   \n",
       "6                      8, 961                               Y   \n",
       "7                     15, 391                               Y   \n",
       "8                     29, 048                               Y   \n",
       "9                      29,049                               Y   \n",
       "10                     5, 352                               Y   \n",
       "11                     3, 591                               Y   \n",
       "12                        NaN                             NaN   \n",
       "13                        NaN                             NaN   \n",
       "\n",
       "    Max Walking Distance From Central Address  \\\n",
       "0                                         NaN   \n",
       "1                                         0.2   \n",
       "2                                         0.4   \n",
       "3                                         0.2   \n",
       "4                                         0.2   \n",
       "5                                         0.0   \n",
       "6                                         0.3   \n",
       "7                                         0.7   \n",
       "8                                         0.4   \n",
       "9                                         0.1   \n",
       "10                                        0.1   \n",
       "11                                        0.4   \n",
       "12                                        NaN   \n",
       "13                                        NaN   \n",
       "\n",
       "                       Most Central Address   Latitude  Longitude  \n",
       "0                                       NaN        NaN        NaN  \n",
       "1        2325 N Seminary, Chicago IL  60614  41.924739 -87.655636  \n",
       "2     1032 W Sheridan Rd, Chicago, IL 60660  41.998508 -87.657758  \n",
       "3         9501 S King Dr, Chicago, IL 60628  41.719584 -87.610879  \n",
       "4          3241 S. Wabash, Chicago IL 60616  41.835591 -87.624957  \n",
       "5   3659 W Bryn Mawr Ave, Chicago, IL 60625  41.979751 -87.719812  \n",
       "6      731 S Plymouth Ct, Chicago, IL 60605  41.872700 -87.628353  \n",
       "7   1101 E 58th St # 105, Chicago, IL 60637  41.788972 -87.599263  \n",
       "8          421 S Halsted , Chicago IL 60607  41.868686 -87.647561  \n",
       "9           809. S Damen Chicago, IL  60612  41.871063 -87.675879  \n",
       "10      425 S Wabash Ave, Chicago, IL 60605  41.876369 -87.625537  \n",
       "11       36 S Wabash Ave, Chicago, IL 60603  41.880977 -87.626481  \n",
       "12                                      NaN        NaN        NaN  \n",
       "13                                      NaN        NaN        NaN  "
      ]
     },
     "execution_count": 58,
     "metadata": {},
     "output_type": "execute_result"
    }
   ],
   "source": [
    "chicago_campuses"
   ]
  },
  {
   "cell_type": "code",
   "execution_count": 59,
   "metadata": {
    "collapsed": true
   },
   "outputs": [],
   "source": [
    "chicago_campuses.dropna(how='all', inplace=True)"
   ]
  },
  {
   "cell_type": "code",
   "execution_count": 60,
   "metadata": {
    "collapsed": true
   },
   "outputs": [],
   "source": [
    "def distance_from_campus(lon, lat):\n",
    "    min_dist = None\n",
    "    for coord in zip(chicago_campuses['Longitude'].values, chicago_campuses['Latitude'].values):\n",
    "        if min_dist is None:\n",
    "            min_dist = vincenty((lon, lat), coord, ellipsoid='WGS-84').miles\n",
    "        else:\n",
    "            dist =  vincenty((lon, lat), coord, ellipsoid='WGS-84').miles\n",
    "            if dist < min_dist:\n",
    "                min_dist = dist\n",
    "    return min_dist"
   ]
  },
  {
   "cell_type": "code",
   "execution_count": 61,
   "metadata": {
    "collapsed": true
   },
   "outputs": [],
   "source": [
    "df['nearest_campus'] = df.apply(lambda x: distance_from_campus(x['Longitude'], x['Latitude']), axis=1)"
   ]
  },
  {
   "cell_type": "code",
   "execution_count": 62,
   "metadata": {},
   "outputs": [
    {
     "data": {
      "text/plain": [
       "ID                                       6169464\n",
       "Case Number                             HP247247\n",
       "Date                      03/26/2008 04:00:00 AM\n",
       "Description                  AGGRAVATED: HANDGUN\n",
       "Location Description                      STREET\n",
       "Arrest                                     False\n",
       "Domestic                                   False\n",
       "Beat                                        1434\n",
       "District                                      14\n",
       "Ward                                          32\n",
       "Community Area                                24\n",
       "Year                                        2008\n",
       "Latitude                                 36.6194\n",
       "Longitude                               -91.6866\n",
       "domestic_dummied                               0\n",
       "Arrest_Dummied                                 0\n",
       "nearest_police_station                   12144.3\n",
       "nearest_campus                           12146.5\n",
       "Name: 4049, dtype: object"
      ]
     },
     "execution_count": 62,
     "metadata": {},
     "output_type": "execute_result"
    }
   ],
   "source": [
    "df.loc[df['nearest_campus'].idxmax()]"
   ]
  },
  {
   "cell_type": "code",
   "execution_count": 63,
   "metadata": {
    "collapsed": true
   },
   "outputs": [],
   "source": [
    "df.drop([4049], inplace=True)"
   ]
  },
  {
   "cell_type": "code",
   "execution_count": 64,
   "metadata": {},
   "outputs": [
    {
     "data": {
      "text/plain": [
       "ID                                                          10650589\n",
       "Case Number                                                 HZ400550\n",
       "Date                                          08/20/2016 05:00:00 PM\n",
       "Description                                           NON-AGGRAVATED\n",
       "Location Description      AIRPORT TERMINAL UPPER LEVEL - SECURE AREA\n",
       "Arrest                                                         False\n",
       "Domestic                                                       False\n",
       "Beat                                                            1651\n",
       "District                                                          16\n",
       "Ward                                                              41\n",
       "Community Area                                                    76\n",
       "Year                                                            2016\n",
       "Latitude                                                      41.979\n",
       "Longitude                                                   -87.9065\n",
       "domestic_dummied                                                   0\n",
       "Arrest_Dummied                                                     0\n",
       "nearest_police_station                                        9.5993\n",
       "nearest_campus                                                12.954\n",
       "Name: 23077, dtype: object"
      ]
     },
     "execution_count": 64,
     "metadata": {},
     "output_type": "execute_result"
    }
   ],
   "source": [
    "df.loc[df['nearest_campus'].idxmax()]"
   ]
  },
  {
   "cell_type": "code",
   "execution_count": 65,
   "metadata": {},
   "outputs": [
    {
     "data": {
      "text/plain": [
       "ID                                          6197005\n",
       "Case Number                                HP286082\n",
       "Date                         04/17/2008 03:00:00 PM\n",
       "Description                          NON-AGGRAVATED\n",
       "Location Description      HOSPITAL BUILDING/GROUNDS\n",
       "Arrest                                        False\n",
       "Domestic                                      False\n",
       "Beat                                           1224\n",
       "District                                         12\n",
       "Ward                                              2\n",
       "Community Area                                   28\n",
       "Year                                           2008\n",
       "Latitude                                    41.8732\n",
       "Longitude                                  -87.6759\n",
       "domestic_dummied                                  0\n",
       "Arrest_Dummied                                    0\n",
       "nearest_police_station                     0.475988\n",
       "nearest_campus                           0.00611198\n",
       "Name: 4101, dtype: object"
      ]
     },
     "execution_count": 65,
     "metadata": {},
     "output_type": "execute_result"
    }
   ],
   "source": [
    "df.loc[df['nearest_campus'].idxmin()]"
   ]
  },
  {
   "cell_type": "code",
   "execution_count": 66,
   "metadata": {},
   "outputs": [
    {
     "data": {
      "text/plain": [
       "Community Area\n",
       "0.0        1\n",
       "1.0      362\n",
       "2.0      222\n",
       "3.0      373\n",
       "4.0      128\n",
       "5.0      108\n",
       "6.0      432\n",
       "7.0      256\n",
       "8.0      552\n",
       "9.0       15\n",
       "10.0      66\n",
       "11.0      39\n",
       "12.0      18\n",
       "13.0      61\n",
       "14.0     192\n",
       "15.0     191\n",
       "16.0     239\n",
       "17.0      68\n",
       "18.0      26\n",
       "19.0     380\n",
       "20.0     141\n",
       "21.0     191\n",
       "22.0     417\n",
       "23.0     593\n",
       "24.0     451\n",
       "25.0    1425\n",
       "26.0     338\n",
       "27.0     343\n",
       "28.0     489\n",
       "29.0     598\n",
       "        ... \n",
       "48.0     136\n",
       "49.0     674\n",
       "50.0      91\n",
       "51.0     131\n",
       "52.0      91\n",
       "53.0     441\n",
       "54.0     122\n",
       "55.0      35\n",
       "56.0     135\n",
       "57.0      74\n",
       "58.0     209\n",
       "59.0      59\n",
       "60.0     110\n",
       "61.0     460\n",
       "62.0      59\n",
       "63.0     202\n",
       "64.0      52\n",
       "65.0     117\n",
       "66.0     560\n",
       "67.0     772\n",
       "68.0     743\n",
       "69.0     644\n",
       "70.0     187\n",
       "71.0     683\n",
       "72.0      46\n",
       "73.0     286\n",
       "74.0      40\n",
       "75.0     146\n",
       "76.0      39\n",
       "77.0     204\n",
       "Name: Case Number, dtype: int64"
      ]
     },
     "execution_count": 66,
     "metadata": {},
     "output_type": "execute_result"
    }
   ],
   "source": [
    "df.groupby('Community Area')['Case Number'].nunique()"
   ]
  },
  {
   "cell_type": "code",
   "execution_count": 67,
   "metadata": {
    "collapsed": true
   },
   "outputs": [],
   "source": [
    "def assign(community):\n",
    "    if community == 0:\n",
    "        return int(56)\n",
    "    else:\n",
    "        return community\n",
    "\n",
    "\n",
    "df['Community Area'] = df['Community Area'].apply(assign)"
   ]
  },
  {
   "cell_type": "code",
   "execution_count": 68,
   "metadata": {},
   "outputs": [
    {
     "data": {
      "text/plain": [
       "2043"
      ]
     },
     "execution_count": 68,
     "metadata": {},
     "output_type": "execute_result"
    }
   ],
   "source": [
    "df['Community Area'].isnull().sum()"
   ]
  },
  {
   "cell_type": "code",
   "execution_count": 69,
   "metadata": {
    "collapsed": true
   },
   "outputs": [],
   "source": [
    "df.dropna(subset=['Community Area'], how ='all', inplace =True)"
   ]
  },
  {
   "cell_type": "code",
   "execution_count": 70,
   "metadata": {
    "collapsed": true
   },
   "outputs": [],
   "source": [
    "df.dropna(subset=['Ward'], how='all', inplace=True)"
   ]
  },
  {
   "cell_type": "code",
   "execution_count": 71,
   "metadata": {
    "collapsed": true
   },
   "outputs": [],
   "source": [
    "df['Community Area'] = df['Community Area'].astype(int)"
   ]
  },
  {
   "cell_type": "code",
   "execution_count": 72,
   "metadata": {
    "collapsed": true
   },
   "outputs": [],
   "source": [
    "df['Ward'] = df['Ward'].astype(int)"
   ]
  },
  {
   "cell_type": "code",
   "execution_count": 73,
   "metadata": {
    "collapsed": true
   },
   "outputs": [],
   "source": [
    "df['District'] = df['District'].astype(int)"
   ]
  },
  {
   "cell_type": "code",
   "execution_count": 74,
   "metadata": {
    "collapsed": true
   },
   "outputs": [],
   "source": [
    "df['date_transformed']= pd.to_datetime(df['Date'])"
   ]
  },
  {
   "cell_type": "code",
   "execution_count": 75,
   "metadata": {
    "collapsed": true
   },
   "outputs": [],
   "source": [
    "df['time_full'] = df['date_transformed'].apply(lambda x: datetime.strftime(x, \"%H:%M\"))"
   ]
  },
  {
   "cell_type": "code",
   "execution_count": 76,
   "metadata": {
    "collapsed": true
   },
   "outputs": [],
   "source": [
    "df['time_hour'] = df['date_transformed'].apply(lambda x: datetime.strftime(x, \"%H\"))"
   ]
  },
  {
   "cell_type": "code",
   "execution_count": 77,
   "metadata": {
    "collapsed": true
   },
   "outputs": [],
   "source": [
    "df['Day_of_Month'] = df['date_transformed'].apply(lambda x: datetime.strftime(x, \"%d\"))"
   ]
  },
  {
   "cell_type": "code",
   "execution_count": 78,
   "metadata": {
    "collapsed": true
   },
   "outputs": [],
   "source": [
    "df['Month'] = df['date_transformed'].apply(lambda x: datetime.strftime(x, \"%m\"))"
   ]
  },
  {
   "cell_type": "code",
   "execution_count": 79,
   "metadata": {
    "collapsed": true
   },
   "outputs": [],
   "source": [
    "df['Day_of_Week'] = df['date_transformed'].apply(lambda x: datetime.strftime(x, \"%A\"))"
   ]
  },
  {
   "cell_type": "code",
   "execution_count": 80,
   "metadata": {
    "collapsed": true
   },
   "outputs": [],
   "source": [
    "def categorize(crime): \n",
    "    if 'ATTEMPT NON-AGGRAVATED' in crime:\n",
    "        crime = 'ATTEMPT NON-AGGRAVATED'\n",
    "    elif 'NON-AGGRAVATED' in crime:\n",
    "        crime = 'NON-AGGRAVATED'\n",
    "    elif 'AGGRAVATED' in crime:\n",
    "         crime = 'AGGRAVATED'\n",
    "    elif 'ATTEMPT AGG' in crime:\n",
    "        crime = 'ATTEMPT-AGGRAVATED'\n",
    "    elif 'PREDATORY' in crime:\n",
    "        crime = 'PREDATORY'\n",
    "    else:\n",
    "         crime = crime\n",
    "    return crime"
   ]
  },
  {
   "cell_type": "code",
   "execution_count": 81,
   "metadata": {
    "collapsed": true
   },
   "outputs": [],
   "source": [
    "df['Description_Transformed'] = df['Description'].apply(categorize)"
   ]
  },
  {
   "cell_type": "code",
   "execution_count": 82,
   "metadata": {},
   "outputs": [
    {
     "data": {
      "text/plain": [
       "Description_Transformed\n",
       "ATTEMPT-AGGRAVATED         128.0\n",
       "ATTEMPT NON-AGGRAVATED     170.0\n",
       "PREDATORY                  519.0\n",
       "AGGRAVATED                1162.0\n",
       "NON-AGGRAVATED            1263.0\n",
       "Name: Arrest, dtype: float64"
      ]
     },
     "execution_count": 82,
     "metadata": {},
     "output_type": "execute_result"
    }
   ],
   "source": [
    "df.groupby('Description_Transformed')['Arrest'].sum().sort_values()"
   ]
  },
  {
   "cell_type": "code",
   "execution_count": 83,
   "metadata": {
    "collapsed": true
   },
   "outputs": [],
   "source": [
    "description_dummies = pd.get_dummies(df['Description_Transformed'])"
   ]
  },
  {
   "cell_type": "code",
   "execution_count": 85,
   "metadata": {
    "collapsed": true
   },
   "outputs": [],
   "source": [
    "def define(location):\n",
    "    if 'RESIDENCE' in location:\n",
    "        location = 'Residential Property'\n",
    "    elif 'CHA' in location:\n",
    "        location = 'Public Housing'\n",
    "    elif 'APARTMENT' in location:\n",
    "        location = 'Residential Property'\n",
    "    elif 'RESIDENTIAL' in location:\n",
    "        location = 'Residential Property'\n",
    "    elif 'BARBER' in location:\n",
    "        location = 'Business'\n",
    "    elif 'BUSINESS' in location:\n",
    "        location = 'Business'\n",
    "    elif 'RETAIL' in location:\n",
    "        location = 'Business'\n",
    "    elif 'GAS' in location:\n",
    "        location = 'Business'\n",
    "    elif 'RESTAURANT' in location:\n",
    "        location = 'Business'\n",
    "    elif 'BAR' in location:\n",
    "        location = 'Business'\n",
    "    elif 'TAVERN' in location:\n",
    "        location = 'Business'\n",
    "    elif 'WAREHOUSE' in location:\n",
    "        location = 'Business'\n",
    "    elif 'STORE' in location:\n",
    "        location = 'Business'\n",
    "    elif 'OFFICE' in location:\n",
    "        location = 'Business'\n",
    "    elif 'THEATER' in location:\n",
    "        location = 'Business'\n",
    "    elif 'CLUB' in location:\n",
    "        location = 'Business'\n",
    "    elif 'BANK' in location:\n",
    "        location = 'Business'\n",
    "    elif 'FACTORY' in location:\n",
    "        location = 'Business'\n",
    "    elif 'ANIMAL' in location:\n",
    "        location = 'Business'\n",
    "    elif 'CAR WASH' in location:\n",
    "        location = 'Business'\n",
    "    elif 'HOTEL' in location:\n",
    "        location = 'Business'\n",
    "    elif 'STREET' in location:\n",
    "        location = 'Public'\n",
    "    elif 'ALLEY' in location:\n",
    "        location = 'Public'\n",
    "    elif 'SIDEWALK' in location:\n",
    "        location = 'Public'\n",
    "    elif 'LAKEFRONT' in location:\n",
    "        location = 'Public'\n",
    "    elif 'PARK' in location:\n",
    "        location = 'Public'\n",
    "    elif 'NON-RESIDENTIAL' in location:\n",
    "        location = 'Public'\n",
    "    elif 'BRIDGE' in location:\n",
    "        location = \"Public\"\n",
    "    elif 'SCHOOL' in location:\n",
    "        location = 'School'\n",
    "    elif 'COLLEGE' in location:\n",
    "        location = 'School'\n",
    "    elif 'HOSPITAL' in location:\n",
    "        location = 'Care Facility'\n",
    "    elif 'NURSING' in location:\n",
    "        location = 'Care Facility'\n",
    "    elif 'DAY CARE' in location:\n",
    "        location = 'Care Facility'\n",
    "    elif 'CTA' in location:\n",
    "        location = 'Public Transportation'\n",
    "    elif 'TAXI' in location:\n",
    "        location = 'Public Transportation'\n",
    "    elif 'RIDE SERVICE' in location:\n",
    "        location = 'Public Transportation'\n",
    "    elif 'RAILROAD' in location:\n",
    "        location = 'Public Transportation'\n",
    "    elif 'AIRPORT' in location:\n",
    "        location = 'Public Transportation'\n",
    "    elif 'VEHICLE NON' in location:\n",
    "        location = 'Private Vehicle'\n",
    "    elif 'BOAT' in location:\n",
    "        location = 'Private Vehicle'\n",
    "    elif 'ABANDON' in location:\n",
    "        location = 'Vacant Property'\n",
    "    elif 'VACANT' in location:\n",
    "        location = 'Vacant Property'\n",
    "    else:\n",
    "        location = 'Other'\n",
    "    return location   "
   ]
  },
  {
   "cell_type": "code",
   "execution_count": 86,
   "metadata": {
    "collapsed": true
   },
   "outputs": [],
   "source": [
    "df['location_transformed'] = df['Location Description'].apply(define)"
   ]
  },
  {
   "cell_type": "code",
   "execution_count": 87,
   "metadata": {},
   "outputs": [
    {
     "data": {
      "text/plain": [
       "location_transformed\n",
       "Care Facility              15.0\n",
       "Public Transportation      28.0\n",
       "Public Housing             47.0\n",
       "Vacant Property            47.0\n",
       "School                     56.0\n",
       "Business                  106.0\n",
       "Private Vehicle           110.0\n",
       "Other                     138.0\n",
       "Public                    394.0\n",
       "Residential Property     2301.0\n",
       "Name: Arrest, dtype: float64"
      ]
     },
     "execution_count": 87,
     "metadata": {},
     "output_type": "execute_result"
    }
   ],
   "source": [
    "df.groupby('location_transformed')['Arrest'].sum().sort_values()"
   ]
  },
  {
   "cell_type": "code",
   "execution_count": 88,
   "metadata": {
    "collapsed": true
   },
   "outputs": [],
   "source": [
    "location_dummies = pd.get_dummies(df['location_transformed'])"
   ]
  },
  {
   "cell_type": "code",
   "execution_count": 89,
   "metadata": {
    "collapsed": true
   },
   "outputs": [],
   "source": [
    "description_dummies = pd.get_dummies(df['Description_Transformed'])"
   ]
  },
  {
   "cell_type": "code",
   "execution_count": 90,
   "metadata": {
    "collapsed": true
   },
   "outputs": [],
   "source": [
    "weekday_dummies = pd.get_dummies(df['Day_of_Week'])"
   ]
  },
  {
   "cell_type": "code",
   "execution_count": 91,
   "metadata": {
    "collapsed": true
   },
   "outputs": [],
   "source": [
    "dfwd = pd.concat([df, location_dummies, description_dummies, weekday_dummies], axis=1)"
   ]
  },
  {
   "cell_type": "code",
   "execution_count": 92,
   "metadata": {
    "collapsed": true
   },
   "outputs": [],
   "source": [
    "y = dfwd['Arrest_Dummied']\n",
    "x = dfwd[['Wednesday', 'Tuesday', 'Thursday', 'Sunday', 'Saturday', 'Monday', 'Friday', 'PREDATORY', 'NON-AGGRAVATED', 'ATTEMPT-AGGRAVATED', 'AGGRAVATED', 'ATTEMPT NON-AGGRAVATED', 'Vacant Property', 'Private Vehicle', 'Public Transportation', 'Care Facility', 'School', 'Public', 'Business', 'Public Housing', 'Residential Property', 'Other', 'Year', 'domestic_dummied', 'Month', 'Day_of_Month', 'time_hour', 'nearest_campus', 'nearest_police_station', 'Community Area', 'Ward', 'District', 'Beat']]\n",
    "\n",
    "rfc = RandomForestClassifier()"
   ]
  },
  {
   "cell_type": "code",
   "execution_count": 93,
   "metadata": {},
   "outputs": [
    {
     "data": {
      "text/plain": [
       "RandomForestClassifier(bootstrap=True, class_weight=None, criterion='gini',\n",
       "            max_depth=None, max_features='auto', max_leaf_nodes=None,\n",
       "            min_impurity_split=1e-07, min_samples_leaf=1,\n",
       "            min_samples_split=2, min_weight_fraction_leaf=0.0,\n",
       "            n_estimators=10, n_jobs=1, oob_score=False, random_state=None,\n",
       "            verbose=0, warm_start=False)"
      ]
     },
     "execution_count": 93,
     "metadata": {},
     "output_type": "execute_result"
    }
   ],
   "source": [
    "x_train, x_test, y_train, y_test = train_test_split(x, y, test_size=0.4)\n",
    "rfc.fit(x_train, y_train)"
   ]
  },
  {
   "cell_type": "code",
   "execution_count": 94,
   "metadata": {},
   "outputs": [
    {
     "data": {
      "text/plain": [
       "0.97754165660468484"
      ]
     },
     "execution_count": 94,
     "metadata": {},
     "output_type": "execute_result"
    }
   ],
   "source": [
    "rfc.score(x_train, y_train)"
   ]
  },
  {
   "cell_type": "code",
   "execution_count": 95,
   "metadata": {},
   "outputs": [
    {
     "data": {
      "text/plain": [
       "0.83639217580294611"
      ]
     },
     "execution_count": 95,
     "metadata": {},
     "output_type": "execute_result"
    }
   ],
   "source": [
    "rfc.score(x_test, y_test)"
   ]
  },
  {
   "cell_type": "code",
   "execution_count": 96,
   "metadata": {
    "collapsed": true
   },
   "outputs": [],
   "source": [
    "def classifications(y_test, y_predict):\n",
    "    print 'Mean accuracy score %s ' % accuracy_score(y_test, y_predict), '\\n'\n",
    "    print confusion_matrix(y_test, y_predict), '\\n'\n",
    "    print classification_report(y_test, y_predict)"
   ]
  },
  {
   "cell_type": "code",
   "execution_count": 97,
   "metadata": {},
   "outputs": [
    {
     "name": "stdout",
     "output_type": "stream",
     "text": [
      "Mean accuracy score 0.831320936972  \n",
      "\n",
      "[[6830  146]\n",
      " [1251   55]] \n",
      "\n",
      "             precision    recall  f1-score   support\n",
      "\n",
      "          0       0.85      0.98      0.91      6976\n",
      "          1       0.27      0.04      0.07      1306\n",
      "\n",
      "avg / total       0.76      0.83      0.78      8282\n",
      "\n"
     ]
    }
   ],
   "source": [
    "rfc.fit(x_train, y_train)\n",
    "classifications(y_test, rfc.predict(x_test))"
   ]
  },
  {
   "cell_type": "code",
   "execution_count": null,
   "metadata": {
    "collapsed": true
   },
   "outputs": [],
   "source": [
    "parameters = [{'n_estimators': [10, 25, 50, 100, 500], 'max_depth': [2, 3, 5, 7, 9],\n",
    "                     'max_features': [0.25, 0.5, 0.75, 1.0]}]\n",
    "\n",
    "gridsearch = GridSearchCV(rfc, param_grid=parameters, cv=7, n_jobs=-1)\n",
    "gridsearch.fit(x_train,y_train)\n",
    "gridsearch.best_estimator_\n",
    "gridsearch.best_estimator_.fit(x_train, y_train) \n",
    "gridsearch.best_estimator_.score(x_train, y_train)\n",
    "gridsearch.best_estimator_.score(x_test, y_test)"
   ]
  }
 ],
 "metadata": {
  "kernelspec": {
   "display_name": "Python 2",
   "language": "python",
   "name": "python2"
  },
  "language_info": {
   "codemirror_mode": {
    "name": "ipython",
    "version": 2
   },
   "file_extension": ".py",
   "mimetype": "text/x-python",
   "name": "python",
   "nbconvert_exporter": "python",
   "pygments_lexer": "ipython2",
   "version": "2.7.13"
  }
 },
 "nbformat": 4,
 "nbformat_minor": 2
}
