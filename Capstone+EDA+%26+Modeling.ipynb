{
 "cells": [
  {
   "cell_type": "markdown",
   "metadata": {},
   "source": [
    "EDA"
   ]
  },
  {
   "cell_type": "code",
   "execution_count": 607,
   "metadata": {
    "scrolled": true
   },
   "outputs": [
    {
     "data": {
      "text/plain": [
       "Index([u'Year', u'domestic_dummied', u'Arrest_Dummied',\n",
       "       u'nearest_police_station', u'nearest_campus', u'time_hour',\n",
       "       u'Day_of_Month', u'Month', u'Business', u'Care Facility',\n",
       "       ...\n",
       "       u'community_75', u'community_76', u'community_77', u'Friday', u'Monday',\n",
       "       u'Saturday', u'Sunday', u'Thursday', u'Tuesday', u'Wednesday'],\n",
       "      dtype='object', length=179)"
      ]
     },
     "execution_count": 607,
     "metadata": {},
     "output_type": "execute_result"
    }
   ],
   "source": [
    "import pandas as pd\n",
    "import numpy as np\n",
    "import matplotlib.pyplot as plt\n",
    "plt.style.use('seaborn-white')\n",
    "% matplotlib inline\n",
    "from geopy.distance import vincenty\n",
    "from datetime import datetime, timedelta\n",
    "from sklearn.cross_validation import train_test_split, cross_val_score\n",
    "from sklearn.grid_search import GridSearchCV\n",
    "from sklearn.metrics import classification_report, confusion_matrix, accuracy_score\n",
    "from sklearn.neighbors import KNeighborsClassifier\n",
    "from sklearn.preprocessing import StandardScaler\n",
    "from sklearn.linear_model import LogisticRegression\n",
    "from sklearn.model_selection import StratifiedKFold\n",
    "from sklearn.ensemble import GradientBoostingClassifier, VotingClassifier, BaggingClassifier, ExtraTreesClassifier, AdaBoostClassifier, RandomForestClassifier \n",
    "from xgboost import XGBClassifier\n",
    "from sklearn.metrics import roc_auc_score\n",
    "from sklearn.metrics import roc_curve, auc\n",
    "\n",
    "\n",
    "df = pd.read_csv('Crimes_-_2001_to_present.csv')\n",
    "\n",
    "df.shape\n",
    "\n",
    "df = df[df['Year'] <= 2016]\n",
    "\n",
    "len(df['Year'])\n",
    "\n",
    "df['Year'].value_counts()\n",
    "\n",
    "def dummy(domestic):   \n",
    "    try: \n",
    "        if domestic == False:\n",
    "            return 0\n",
    "        else: \n",
    "            return 1\n",
    "    except:\n",
    "        pass\n",
    "    \n",
    "df['domestic_dummied'] = df['Domestic'].apply(dummy)\n",
    "df['Arrest_Dummied'] = df['Arrest'].apply(dummy)\n",
    "\n",
    "df.drop('FBI Code', axis=1, inplace = True)\n",
    "df.drop('Updated On', axis=1, inplace = True)\n",
    "df.drop('Primary Type', axis=1, inplace = True)\n",
    "df.drop('IUCR', axis=1, inplace= True)\n",
    "df.drop('X Coordinate', axis=1, inplace= True)\n",
    "df.drop('Y Coordinate', axis=1, inplace= True)\n",
    "df.drop('Location', axis=1, inplace= True)\n",
    "df.drop('Block', axis=1, inplace= True)\n",
    "\n",
    "df.dropna(subset=['Latitude', 'Longitude'], how='all', inplace=True)\n",
    "\n",
    "df['Location Description'].fillna('RESIDENCE', inplace=True)\n",
    "\n",
    "df['District'].dropna(how='all', inplace=True)\n",
    "\n",
    "df['District'].replace(' ', np.nan, inplace=True)\n",
    "\n",
    "df.dropna(subset=['District'], inplace=True)\n",
    "\n",
    "police_stations = pd.read_csv('Police_Stations.csv')\n",
    "\n",
    "def distance_from_police_station(lon, lat):\n",
    "    min_dist = None\n",
    "    for coord in zip(police_stations['LONGITUDE'].values, police_stations['LATITUDE'].values):\n",
    "        if min_dist is None:\n",
    "            min_dist = vincenty((lon, lat), coord, ellipsoid='WGS-84').miles\n",
    "        else:\n",
    "            dist =  vincenty((lon, lat), coord, ellipsoid='WGS-84').miles\n",
    "            if dist < min_dist:\n",
    "                min_dist = dist\n",
    "    return min_dist\n",
    "\n",
    "df['nearest_police_station'] = df.apply(lambda x: distance_from_police_station(x['Longitude'], x['Latitude']), axis=1)\n",
    "\n",
    "chicago_campuses = pd.read_csv('ChicagoCampusCentralAddress.csv')\n",
    "\n",
    "chicago_campuses.dropna(how='all', inplace=True)\n",
    "\n",
    "def distance_from_campus(lon, lat):\n",
    "    min_dist = None\n",
    "    for coord in zip(chicago_campuses['Longitude'].values, chicago_campuses['Latitude'].values):\n",
    "        if min_dist is None:\n",
    "            min_dist = vincenty((lon, lat), coord, ellipsoid='WGS-84').miles\n",
    "        else:\n",
    "            dist =  vincenty((lon, lat), coord, ellipsoid='WGS-84').miles\n",
    "            if dist < min_dist:\n",
    "                min_dist = dist\n",
    "    return min_dist\n",
    "\n",
    "df['nearest_campus'] = df.apply(lambda x: distance_from_campus(x['Longitude'], x['Latitude']), axis=1)\n",
    "\n",
    "df.loc[df['nearest_campus'].idxmax()]\n",
    "\n",
    "df[df['ID']== 6169464]\n",
    "\n",
    "df.drop([4049], inplace=True)\n",
    "\n",
    "df.loc[df['nearest_campus'].idxmax()]\n",
    "\n",
    "df.loc[df['nearest_campus'].idxmin()]\n",
    "\n",
    "df.groupby('Community Area')['Case Number'].nunique()\n",
    "\n",
    "def assign(community):\n",
    "    if community == 0:\n",
    "        return int(56)\n",
    "    else:\n",
    "        return community\n",
    "\n",
    "\n",
    "df['Community Area'] = df['Community Area'].apply(assign)\n",
    "\n",
    "df.dropna(subset=['Community Area'], how ='all', inplace =True)\n",
    "\n",
    "df.dropna(subset=['Ward'], how='all', inplace=True)\n",
    "\n",
    "df['Community Area'] = df['Community Area'].astype(int)\n",
    "df['Ward'] = df['Ward'].astype(int)\n",
    "df['District'] = df['District'].astype(int)\n",
    "\n",
    "df['date_transformed']= pd.to_datetime(df['Date'])\n",
    "df['time_full'] = df['date_transformed'].apply(lambda x: datetime.strftime(x, \"%H:%M\"))\n",
    "df['time_hour'] = df['date_transformed'].apply(lambda x: int(datetime.strftime(x, \"%H\")))\n",
    "df['Day_of_Month'] = df['date_transformed'].apply(lambda x: int(datetime.strftime(x, \"%d\")))\n",
    "df['Month'] = df['date_transformed'].apply(lambda x: int(datetime.strftime(x, \"%m\")))\n",
    "df['Day_of_Week'] = df['date_transformed'].apply(lambda x: datetime.strftime(x, \"%A\"))\n",
    "\n",
    "def categorize(crime): \n",
    "    if 'ATTEMPT NON-AGGRAVATED' in crime:\n",
    "        crime = 'ATTEMPT NON-AGGRAVATED'\n",
    "    elif 'NON-AGGRAVATED' in crime:\n",
    "        crime = 'NON-AGGRAVATED'\n",
    "    elif 'AGGRAVATED' in crime:\n",
    "         crime = 'AGGRAVATED'\n",
    "    elif 'ATTEMPT AGG' in crime:\n",
    "        crime = 'ATTEMPT-AGGRAVATED'\n",
    "    elif 'PREDATORY' in crime:\n",
    "        crime = 'PREDATORY'\n",
    "    else:\n",
    "         crime = crime\n",
    "    return crime\n",
    "\n",
    "df['Description_Transformed'] = df['Description'].apply(categorize)\n",
    "\n",
    "df.groupby('Description_Transformed')['Arrest'].sum().sort_values()\n",
    "\n",
    "description_dummies = pd.get_dummies(df['Description_Transformed'])\n",
    "\n",
    "def define(location):\n",
    "    if 'RESIDENCE' in location:\n",
    "        location = 'Residential Property'\n",
    "    elif 'CHA' in location:\n",
    "        location = 'Public Housing'\n",
    "    elif 'APARTMENT' in location:\n",
    "        location = 'Residential Property'\n",
    "    elif 'RESIDENTIAL' in location:\n",
    "        location = 'Residential Property'\n",
    "    elif 'BARBER' in location:\n",
    "        location = 'Business'\n",
    "    elif 'BUSINESS' in location:\n",
    "        location = 'Business'\n",
    "    elif 'RETAIL' in location:\n",
    "        location = 'Business'\n",
    "    elif 'GAS' in location:\n",
    "        location = 'Business'\n",
    "    elif 'RESTAURANT' in location:\n",
    "        location = 'Business'\n",
    "    elif 'BAR' in location:\n",
    "        location = 'Business'\n",
    "    elif 'TAVERN' in location:\n",
    "        location = 'Business'\n",
    "    elif 'WAREHOUSE' in location:\n",
    "        location = 'Business'\n",
    "    elif 'STORE' in location:\n",
    "        location = 'Business'\n",
    "    elif 'OFFICE' in location:\n",
    "        location = 'Business'\n",
    "    elif 'THEATER' in location:\n",
    "        location = 'Business'\n",
    "    elif 'CLUB' in location:\n",
    "        location = 'Business'\n",
    "    elif 'BANK' in location:\n",
    "        location = 'Business'\n",
    "    elif 'FACTORY' in location:\n",
    "        location = 'Business'\n",
    "    elif 'ANIMAL' in location:\n",
    "        location = 'Business'\n",
    "    elif 'CAR WASH' in location:\n",
    "        location = 'Business'\n",
    "    elif 'HOTEL' in location:\n",
    "        location = 'Business'\n",
    "    elif 'STREET' in location:\n",
    "        location = 'Public'\n",
    "    elif 'ALLEY' in location:\n",
    "        location = 'Public'\n",
    "    elif 'SIDEWALK' in location:\n",
    "        location = 'Public'\n",
    "    elif 'LAKEFRONT' in location:\n",
    "        location = 'Public'\n",
    "    elif 'PARK' in location:\n",
    "        location = 'Public'\n",
    "    elif 'NON-RESIDENTIAL' in location:\n",
    "        location = 'Public'\n",
    "    elif 'BRIDGE' in location:\n",
    "        location = \"Public\"\n",
    "    elif 'SCHOOL' in location:\n",
    "        location = 'School'\n",
    "    elif 'COLLEGE' in location:\n",
    "        location = 'School'\n",
    "    elif 'HOSPITAL' in location:\n",
    "        location = 'Care Facility'\n",
    "    elif 'NURSING' in location:\n",
    "        location = 'Care Facility'\n",
    "    elif 'DAY CARE' in location:\n",
    "        location = 'Care Facility'\n",
    "    elif 'CTA' in location:\n",
    "        location = 'Public Transportation'\n",
    "    elif 'TAXI' in location:\n",
    "        location = 'Public Transportation'\n",
    "    elif 'RIDE SERVICE' in location:\n",
    "        location = 'Public Transportation'\n",
    "    elif 'RAILROAD' in location:\n",
    "        location = 'Public Transportation'\n",
    "    elif 'AIRPORT' in location:\n",
    "        location = 'Public Transportation'\n",
    "    elif 'VEHICLE NON' in location:\n",
    "        location = 'Private Vehicle'\n",
    "    elif 'BOAT' in location:\n",
    "        location = 'Private Vehicle'\n",
    "    elif 'ABANDON' in location:\n",
    "        location = 'Vacant Property'\n",
    "    elif 'VACANT' in location:\n",
    "        location = 'Vacant Property'\n",
    "    else:\n",
    "        location = 'Other'\n",
    "    return location   \n",
    "\n",
    "df['location_transformed'] = df['Location Description'].apply(define)\n",
    "\n",
    "df.groupby('location_transformed')['Arrest'].sum().sort_values()\n",
    "\n",
    "df.groupby('Community Area')['Arrest'].sum().sort_values()\n",
    "df.groupby('District')['Arrest_Dummied'].sum().sort_values()\n",
    "df.groupby('Ward')['Arrest_Dummied'].sum().sort_values()\n",
    "\n",
    "location_dummies = pd.get_dummies(df['location_transformed'])\n",
    "description_dummies = pd.get_dummies(df['Description_Transformed'])\n",
    "ward_dummies = pd.get_dummies(df['Ward'], prefix='ward')\n",
    "district_dummies = pd.get_dummies(df['District'], prefix='district')\n",
    "beat_dummies = pd.get_dummies(df['Beat'], prefix='beat')\n",
    "community_dummies = pd.get_dummies(df['Community Area'], prefix='community')\n",
    "weekday_dummies = pd.get_dummies(df['Day_of_Week'])\n",
    "\n",
    "#without 'Beat'\n",
    "dfwd = pd.concat([df, location_dummies, description_dummies, ward_dummies, district_dummies, community_dummies, weekday_dummies], axis=1)\n",
    "\n",
    "dfwd.drop('ID', axis=1, inplace = True)\n",
    "dfwd.drop('Case Number', axis=1, inplace = True)\n",
    "dfwd.drop('Description', axis=1, inplace = True)\n",
    "dfwd.drop('Location Description', axis=1, inplace = True)\n",
    "dfwd.drop('Domestic', axis=1, inplace = True)\n",
    "dfwd.drop('Arrest', axis=1, inplace = True)\n",
    "dfwd.drop('Latitude', axis=1, inplace = True)\n",
    "dfwd.drop('Longitude', axis=1, inplace = True)\n",
    "dfwd.drop('Date', axis=1, inplace = True)\n",
    "dfwd.drop('Beat', axis=1, inplace = True)\n",
    "dfwd.drop('District', axis=1, inplace = True)\n",
    "dfwd.drop('Ward', axis=1, inplace = True)\n",
    "dfwd.drop('Community Area', axis=1, inplace = True)\n",
    "dfwd.drop('location_transformed', axis=1, inplace=True)\n",
    "dfwd.drop('Description_Transformed', axis=1, inplace=True)\n",
    "dfwd.drop('date_transformed', axis=1, inplace=True)\n",
    "dfwd.drop('Day_of_Week', axis=1, inplace=True)\n",
    "dfwd.drop('time_full', axis=1, inplace=True)\n",
    "\n",
    "dfwd.shape\n",
    "dfwd.columns\n",
    "\n",
    "\n"
   ]
  },
  {
   "cell_type": "markdown",
   "metadata": {},
   "source": [
    "MODELING"
   ]
  },
  {
   "cell_type": "code",
   "execution_count": 667,
   "metadata": {
    "collapsed": true
   },
   "outputs": [],
   "source": [
    "y = dfwd['Arrest_Dummied']\n",
    "# x = dfwd.drop('Arrest_Dummied', axis =1)\n",
    "x = dfwd[['nearest_police_station', 'Year', 'nearest_campus',\n",
    "       'NON-AGGRAVATED', 'time_hour', 'Day_of_Month', 'Month',\n",
    "       'PREDATORY', 'Residential Property', 'domestic_dummied',\n",
    "       'AGGRAVATED', 'Public', 'ATTEMPT-AGGRAVATED', 'Sunday', 'Monday', 'Tuesday', 'Wednesday', 'Thursday', 'Friday', 'Saturday']]"
   ]
  },
  {
   "cell_type": "code",
   "execution_count": 668,
   "metadata": {
    "collapsed": true
   },
   "outputs": [],
   "source": [
    "x_train, x_test, y_train, y_test = train_test_split(x, y)"
   ]
  },
  {
   "cell_type": "code",
   "execution_count": 669,
   "metadata": {
    "collapsed": true
   },
   "outputs": [],
   "source": [
    "def run_model(x_train, y_train, x_test, y_test, model):\n",
    "    model.fit(x_train, y_train)\n",
    "    print \"base model score: \", np.mean(y_train)   #the proportion of 1's (aka arrests)\n",
    "    print \"other base model score: \", 1-np.mean(y_train)   #the proportion of 0's (aka non-arrests)\n",
    "    print \"training score:   \", model.score(x_train, y_train)\n",
    "    print \"test score:       \", model.score(x_test, y_test)"
   ]
  },
  {
   "cell_type": "code",
   "execution_count": 670,
   "metadata": {
    "collapsed": true
   },
   "outputs": [],
   "source": [
    "rfc = RandomForestClassifier(class_weight = \"balanced\", min_samples_leaf =6, n_estimators=30)\n",
    "rfcb = BaggingClassifier(base_estimator =rfc)\n",
    "et = ExtraTreesClassifier(class_weight= \"balanced\", min_samples_leaf =3, n_estimators=40)\n",
    "xgb = XGBClassifier()\n",
    "gbc = GradientBoostingClassifier(min_samples_leaf=3)\n",
    "lr = LogisticRegression(class_weight=\"balanced\")\n",
    "lrb = BaggingClassifier(base_estimator=lr)\n",
    "vc= VotingClassifier(estimators = [('Bagged LR', lrb),('XGBoost', xgb), ('Gradient Boost', gbc), ('RFC', rfc), ('bagged rfc', rfcb), ('ET', et), ('LR', lr)], voting = \"soft\")\n",
    "vc2 = VotingClassifier(estimators = [('Bagged LR', lrb), ('Gradient Boost', gbc), ('RFC', rfc), ('bagged rfc', rfcb), ('ET', et), ('LR', lr)], voting = \"soft\")\n",
    "vc3 = VotingClassifier(estimators = [('Bagged LR', lrb), ('RFC', rfc), ('bagged rfc', rfcb), ('ET', et), ('LR', lr)], voting = \"soft\")\n",
    "vc4 = VotingClassifier(estimators = [('Bagged LR', lrb), ('RFC', rfc), ('bagged rfc', rfcb), ('ET', et)], voting = \"soft\")\n",
    "vc5 = VotingClassifier(estimators = [('RFC', rfc), ('bagged rfc', rfcb), ('ET', et)], voting = \"soft\")\n",
    "vc6 = VotingClassifier(estimators = [('Bagged LR', lrb), ('RFC', rfc), ('bagged rfc', rfcb)], voting = \"soft\")"
   ]
  },
  {
   "cell_type": "code",
   "execution_count": 909,
   "metadata": {
    "scrolled": false
   },
   "outputs": [
    {
     "name": "stdout",
     "output_type": "stream",
     "text": [
      "\n",
      "\n",
      "RandomForestClassifier(bootstrap=True, class_weight='balanced',\n",
      "            criterion='gini', max_depth=None, max_features='auto',\n",
      "            max_leaf_nodes=None, min_impurity_split=1e-07,\n",
      "            min_samples_leaf=6, min_samples_split=2,\n",
      "            min_weight_fraction_leaf=0.0, n_estimators=30, n_jobs=1,\n",
      "            oob_score=False, random_state=None, verbose=0,\n",
      "            warm_start=False)\n",
      "base model score:  0.159958180868\n",
      "other base model score:  0.840041819132\n",
      "training score:    0.841152639833\n",
      "test score:        0.755978047824\n",
      "\n",
      "\n",
      "BaggingClassifier(base_estimator=RandomForestClassifier(bootstrap=True, class_weight='balanced',\n",
      "            criterion='gini', max_depth=None, max_features='auto',\n",
      "            max_leaf_nodes=None, min_impurity_split=1e-07,\n",
      "            min_samples_leaf=6, min_samples_split=2,\n",
      "            min_weight_fraction_leaf=0.0, n_estimators=30, n_jobs=1,\n",
      "            oob_score=False, random_state=None, verbose=0,\n",
      "            warm_start=False),\n",
      "         bootstrap=True, bootstrap_features=False, max_features=1.0,\n",
      "         max_samples=1.0, n_estimators=10, n_jobs=1, oob_score=False,\n",
      "         random_state=None, verbose=0, warm_start=False)\n",
      "base model score:  0.159958180868\n",
      "other base model score:  0.840041819132\n",
      "training score:    0.823706220596\n",
      "test score:        0.77616620933\n",
      "\n",
      "\n",
      "VotingClassifier(estimators=[('Bagged LR', BaggingClassifier(base_estimator=LogisticRegression(C=1.0, class_weight='balanced', dual=False,\n",
      "          fit_intercept=True, intercept_scaling=1, max_iter=100,\n",
      "          multi_class='ovr', n_jobs=1, penalty='l2', random_state=None,\n",
      "          solver='liblinear', tol=0.0001,...ty='l2', random_state=None,\n",
      "          solver='liblinear', tol=0.0001, verbose=0, warm_start=False))],\n",
      "         n_jobs=1, voting='soft', weights=None)\n",
      "base model score:  0.159958180868\n",
      "other base model score:  0.840041819132\n",
      "training score:    0.851280710925\n",
      "test score:        0.808898471188\n",
      "\n",
      "\n",
      "VotingClassifier(estimators=[('Bagged LR', BaggingClassifier(base_estimator=LogisticRegression(C=1.0, class_weight='balanced', dual=False,\n",
      "          fit_intercept=True, intercept_scaling=1, max_iter=100,\n",
      "          multi_class='ovr', n_jobs=1, penalty='l2', random_state=None,\n",
      "          solver='liblinear', tol=0.0001,...ty='l2', random_state=None,\n",
      "          solver='liblinear', tol=0.0001, verbose=0, warm_start=False))],\n",
      "         n_jobs=1, voting='soft', weights=None)\n",
      "base model score:  0.159958180868\n",
      "other base model score:  0.840041819132\n",
      "training score:    0.836317302666\n",
      "test score:        0.780674245394\n",
      "\n",
      "\n",
      "VotingClassifier(estimators=[('Bagged LR', BaggingClassifier(base_estimator=LogisticRegression(C=1.0, class_weight='balanced', dual=False,\n",
      "          fit_intercept=True, intercept_scaling=1, max_iter=100,\n",
      "          multi_class='ovr', n_jobs=1, penalty='l2', random_state=None,\n",
      "          solver='liblinear', tol=0.0001,...ty='l2', random_state=None,\n",
      "          solver='liblinear', tol=0.0001, verbose=0, warm_start=False))],\n",
      "         n_jobs=1, voting='soft', weights=None)\n",
      "base model score:  0.159958180868\n",
      "other base model score:  0.840041819132\n",
      "training score:    0.798157344485\n",
      "test score:        0.72579380635\n",
      "\n",
      "\n",
      "VotingClassifier(estimators=[('Bagged LR', BaggingClassifier(base_estimator=LogisticRegression(C=1.0, class_weight='balanced', dual=False,\n",
      "          fit_intercept=True, intercept_scaling=1, max_iter=100,\n",
      "          multi_class='ovr', n_jobs=1, penalty='l2', random_state=None,\n",
      "          solver='liblinear', tol=0.0001,...timators=40, n_jobs=1,\n",
      "           oob_score=False, random_state=None, verbose=0, warm_start=False))],\n",
      "         n_jobs=1, voting='soft', weights=None)\n",
      "base model score:  0.159958180868\n",
      "other base model score:  0.840041819132\n",
      "training score:    0.831481965499\n",
      "test score:        0.746765974128\n",
      "\n",
      "\n",
      "VotingClassifier(estimators=[('RFC', RandomForestClassifier(bootstrap=True, class_weight='balanced',\n",
      "            criterion='gini', max_depth=None, max_features='auto',\n",
      "            max_leaf_nodes=None, min_impurity_split=1e-07,\n",
      "            min_samples_leaf=6, min_samples_split=2,\n",
      "            min_weight_fraction_leaf=...timators=40, n_jobs=1,\n",
      "           oob_score=False, random_state=None, verbose=0, warm_start=False))],\n",
      "         n_jobs=1, voting='soft', weights=None)\n",
      "base model score:  0.159958180868\n",
      "other base model score:  0.840041819132\n",
      "training score:    0.877940407737\n",
      "test score:        0.766366130929\n",
      "\n",
      "\n",
      "VotingClassifier(estimators=[('Bagged LR', BaggingClassifier(base_estimator=LogisticRegression(C=1.0, class_weight='balanced', dual=False,\n",
      "          fit_intercept=True, intercept_scaling=1, max_iter=100,\n",
      "          multi_class='ovr', n_jobs=1, penalty='l2', random_state=None,\n",
      "          solver='liblinear', tol=0.0001,...estimators=10, n_jobs=1, oob_score=False,\n",
      "         random_state=None, verbose=0, warm_start=False))],\n",
      "         n_jobs=1, voting='soft', weights=None)\n",
      "base model score:  0.159958180868\n",
      "other base model score:  0.840041819132\n",
      "training score:    0.784566126503\n",
      "test score:        0.739905919247\n"
     ]
    }
   ],
   "source": [
    "models = [rfc, rfcb, vc, vc2, vc3, vc4, vc5, vc6]\n",
    "for i in models:\n",
    "    print \"\\n\"\n",
    "    print i\n",
    "    run_model(x_train, y_train, x_test, y_test, i)"
   ]
  },
  {
   "cell_type": "code",
   "execution_count": 691,
   "metadata": {
    "collapsed": true
   },
   "outputs": [],
   "source": [
    "def classifications(y_test, y_predict):\n",
    "    print 'Mean accuracy score %s ' % accuracy_score(y_test, y_predict), '\\n'\n",
    "    print confusion_matrix(y_test, y_predict), '\\n'\n",
    "    print classification_report(y_test, y_predict)"
   ]
  },
  {
   "cell_type": "code",
   "execution_count": 692,
   "metadata": {
    "scrolled": true
   },
   "outputs": [
    {
     "name": "stdout",
     "output_type": "stream",
     "text": [
      "Reports for Random Forest:\tMean accuracy score 0.749117992944  \n",
      "\n",
      "[[3513  800]\n",
      " [ 480  309]] \n",
      "\n",
      "             precision    recall  f1-score   support\n",
      "\n",
      "          0       0.88      0.81      0.85      4313\n",
      "          1       0.28      0.39      0.33       789\n",
      "\n",
      "avg / total       0.79      0.75      0.77      5102\n",
      "\n",
      "None\n"
     ]
    }
   ],
   "source": [
    "print \"Reports for Random Forest:\\t\", classifications(y_test, rfc.predict(x_test))"
   ]
  },
  {
   "cell_type": "code",
   "execution_count": 733,
   "metadata": {
    "scrolled": true
   },
   "outputs": [
    {
     "data": {
      "text/html": [
       "<div>\n",
       "<table border=\"1\" class=\"dataframe\">\n",
       "  <thead>\n",
       "    <tr style=\"text-align: right;\">\n",
       "      <th></th>\n",
       "      <th>predicted_no_arrest</th>\n",
       "      <th>predicted_arrest</th>\n",
       "    </tr>\n",
       "  </thead>\n",
       "  <tbody>\n",
       "    <tr>\n",
       "      <th>no_arrest_actual</th>\n",
       "      <td>3513</td>\n",
       "      <td>800</td>\n",
       "    </tr>\n",
       "    <tr>\n",
       "      <th>arrest_actual</th>\n",
       "      <td>480</td>\n",
       "      <td>309</td>\n",
       "    </tr>\n",
       "  </tbody>\n",
       "</table>\n",
       "</div>"
      ],
      "text/plain": [
       "                  predicted_no_arrest  predicted_arrest\n",
       "no_arrest_actual                 3513               800\n",
       "arrest_actual                     480               309"
      ]
     },
     "execution_count": 733,
     "metadata": {},
     "output_type": "execute_result"
    }
   ],
   "source": [
    "rfc_y_pred = rfc.predict(x_test)\n",
    "rfc_cm = np.array(confusion_matrix(y_test, rfc_y_pred))\n",
    "rfc_confusion = pd.DataFrame(rfc_cm, index=['no_arrest_actual', 'arrest_actual'], columns=['predicted_no_arrest', 'predicted_arrest'])\n",
    "rfc_confusion"
   ]
  },
  {
   "cell_type": "code",
   "execution_count": 840,
   "metadata": {
    "collapsed": true
   },
   "outputs": [],
   "source": [
    "rfc_y_score = rfc.predict_proba(x_test)[:,1]"
   ]
  },
  {
   "cell_type": "code",
   "execution_count": 841,
   "metadata": {},
   "outputs": [
    {
     "name": "stdout",
     "output_type": "stream",
     "text": [
      "0.670382258724\n"
     ]
    }
   ],
   "source": [
    "print roc_auc_score(y_test, rfc_y_score)"
   ]
  },
  {
   "cell_type": "code",
   "execution_count": 849,
   "metadata": {
    "collapsed": true
   },
   "outputs": [],
   "source": [
    "rfc_FPR = dict()\n",
    "rfc_TPR = dict()\n",
    "rfc_ROC_AUC = dict()"
   ]
  },
  {
   "cell_type": "code",
   "execution_count": 850,
   "metadata": {},
   "outputs": [
    {
     "data": {
      "text/plain": [
       "(array([  0.00000000e+00,   2.31857176e-04,   4.63714352e-04, ...,\n",
       "          9.99304428e-01,   9.99304428e-01,   1.00000000e+00]),\n",
       " array([ 0.        ,  0.        ,  0.        , ...,  0.99873257,\n",
       "         1.        ,  1.        ]),\n",
       " array([ 1.84376068,  0.84376068,  0.83581594, ...,  0.08255986,\n",
       "         0.08063959,  0.06130724]))"
      ]
     },
     "execution_count": 850,
     "metadata": {},
     "output_type": "execute_result"
    }
   ],
   "source": [
    "#for class 1 (arrest), find the AUC:\n",
    "roc_curve(y_test, rfc_y_score)"
   ]
  },
  {
   "cell_type": "code",
   "execution_count": 851,
   "metadata": {
    "collapsed": true
   },
   "outputs": [],
   "source": [
    "rfc_FPR[1], rfc_TPR[1], _ = roc_curve(y_test, rfc_y_score)\n",
    "rfc_ROC_AUC[1] = auc(rfc_FPR[1], rfc_TPR[1])"
   ]
  },
  {
   "cell_type": "code",
   "execution_count": 854,
   "metadata": {
    "scrolled": true
   },
   "outputs": [
    {
     "data": {
      "image/png": "[encoded data removed]",
      "text/plain": [
       "<matplotlib.figure.Figure at 0x13add9590>"
      ]
     },
     "metadata": {},
     "output_type": "display_data"
    }
   ],
   "source": [
    "plt.figure(figsize=[7,5])\n",
    "plt.plot(rfc_FPR[1], rfc_TPR[1], label='ROC curve (area = %0.3f)' % rfc_ROC_AUC[1], linewidth=3)\n",
    "plt.plot([0, 1], [0, 1], 'k--', linewidth=3)\n",
    "plt.xlim([0.0, 1])\n",
    "plt.ylim([0.0, 1])\n",
    "plt.xlabel('False Positive Rate', fontsize=18)\n",
    "plt.ylabel('True Positive Rate', fontsize=18)\n",
    "plt.title('Random Forest ROC Curve for Arrest', fontsize=18)\n",
    "plt.legend(loc=\"lower right\")\n",
    "plt.show()"
   ]
  },
  {
   "cell_type": "code",
   "execution_count": 767,
   "metadata": {
    "scrolled": true
   },
   "outputs": [
    {
     "name": "stdout",
     "output_type": "stream",
     "text": [
      "Reports for Bagged Random Forest:\tMean accuracy score 0.779694237554  \n",
      "\n",
      "[[3707  606]\n",
      " [ 518  271]] \n",
      "\n",
      "             precision    recall  f1-score   support\n",
      "\n",
      "          0       0.88      0.86      0.87      4313\n",
      "          1       0.31      0.34      0.33       789\n",
      "\n",
      "avg / total       0.79      0.78      0.78      5102\n",
      "\n",
      "None\n"
     ]
    }
   ],
   "source": [
    "print \"Reports for Bagged Random Forest:\\t\", classifications(y_test, rfcb.predict(x_test))"
   ]
  },
  {
   "cell_type": "code",
   "execution_count": 771,
   "metadata": {},
   "outputs": [
    {
     "data": {
      "text/html": [
       "<div>\n",
       "<table border=\"1\" class=\"dataframe\">\n",
       "  <thead>\n",
       "    <tr style=\"text-align: right;\">\n",
       "      <th></th>\n",
       "      <th>predicted_no_arrest</th>\n",
       "      <th>predicted_arrest</th>\n",
       "    </tr>\n",
       "  </thead>\n",
       "  <tbody>\n",
       "    <tr>\n",
       "      <th>no_arrest_actual</th>\n",
       "      <td>3707</td>\n",
       "      <td>606</td>\n",
       "    </tr>\n",
       "    <tr>\n",
       "      <th>arrest_actual</th>\n",
       "      <td>518</td>\n",
       "      <td>271</td>\n",
       "    </tr>\n",
       "  </tbody>\n",
       "</table>\n",
       "</div>"
      ],
      "text/plain": [
       "                  predicted_no_arrest  predicted_arrest\n",
       "no_arrest_actual                 3707               606\n",
       "arrest_actual                     518               271"
      ]
     },
     "execution_count": 771,
     "metadata": {},
     "output_type": "execute_result"
    }
   ],
   "source": [
    "rfcb_y_pred = rfcb.predict(x_test)\n",
    "rfcb_cm = np.array(confusion_matrix(y_test, rfcb_y_pred))\n",
    "rfcb_confusion = pd.DataFrame(rfcb_cm, index=['no_arrest_actual', 'arrest_actual'], columns=['predicted_no_arrest', 'predicted_arrest'])\n",
    "rfcb_confusion"
   ]
  },
  {
   "cell_type": "code",
   "execution_count": 772,
   "metadata": {
    "collapsed": true
   },
   "outputs": [],
   "source": [
    "rfcb_y_score = rfcb.predict_proba(x_test)[:,1]"
   ]
  },
  {
   "cell_type": "code",
   "execution_count": 773,
   "metadata": {
    "scrolled": true
   },
   "outputs": [
    {
     "name": "stdout",
     "output_type": "stream",
     "text": [
      "0.676320329643\n"
     ]
    }
   ],
   "source": [
    "print roc_auc_score(y_test, rfcb_y_score)"
   ]
  },
  {
   "cell_type": "code",
   "execution_count": 774,
   "metadata": {
    "collapsed": true
   },
   "outputs": [],
   "source": [
    "rfcb_FPR = dict()\n",
    "rfcb_TPR = dict()\n",
    "rfcb_ROC_AUC = dict()"
   ]
  },
  {
   "cell_type": "code",
   "execution_count": 775,
   "metadata": {
    "collapsed": true
   },
   "outputs": [],
   "source": [
    "rfcb_FPR[1], rfcb_TPR[1], _ = roc_curve(y_test, rfcb_y_score)\n",
    "rfcb_ROC_AUC[1] = auc(rfcb_FPR[1], rfcb_TPR[1])"
   ]
  },
  {
   "cell_type": "code",
   "execution_count": 853,
   "metadata": {},
   "outputs": [
    {
     "data": {
      "image/png": "[encoded data removed]",
      "text/plain": [
       "<matplotlib.figure.Figure at 0x136ee8910>"
      ]
     },
     "metadata": {},
     "output_type": "display_data"
    }
   ],
   "source": [
    "plt.figure(figsize=[7,5])\n",
    "plt.plot(rfcb_FPR[1], rfcb_TPR[1], label='ROC curve (area = %0.3f)' % rfcb_ROC_AUC[1], linewidth=3)\n",
    "plt.plot([0, 1], [0, 1], 'k--', linewidth=3)\n",
    "plt.xlim([0.0, 1])\n",
    "plt.ylim([0.0, 1])\n",
    "plt.xlabel('False Positive Rate', fontsize=18)\n",
    "plt.ylabel('True Positive Rate', fontsize=18)\n",
    "plt.title('Bagged Random Forest ROC Curve for Arrest', fontsize=18)\n",
    "plt.legend(loc=\"lower right\")\n",
    "plt.show()"
   ]
  },
  {
   "cell_type": "code",
   "execution_count": 777,
   "metadata": {
    "scrolled": true
   },
   "outputs": [
    {
     "name": "stdout",
     "output_type": "stream",
     "text": [
      "Reports for Extra Trees:\tMean accuracy score 0.748137985104  \n",
      "\n",
      "[[3516  797]\n",
      " [ 488  301]] \n",
      "\n",
      "             precision    recall  f1-score   support\n",
      "\n",
      "          0       0.88      0.82      0.85      4313\n",
      "          1       0.27      0.38      0.32       789\n",
      "\n",
      "avg / total       0.78      0.75      0.76      5102\n",
      "\n",
      "None\n"
     ]
    }
   ],
   "source": [
    "print \"Reports for Extra Trees:\\t\", classifications(y_test, et.predict(x_test))"
   ]
  },
  {
   "cell_type": "code",
   "execution_count": 778,
   "metadata": {
    "scrolled": false
   },
   "outputs": [
    {
     "data": {
      "text/html": [
       "<div>\n",
       "<table border=\"1\" class=\"dataframe\">\n",
       "  <thead>\n",
       "    <tr style=\"text-align: right;\">\n",
       "      <th></th>\n",
       "      <th>predicted_no_arrest</th>\n",
       "      <th>predicted_arrest</th>\n",
       "    </tr>\n",
       "  </thead>\n",
       "  <tbody>\n",
       "    <tr>\n",
       "      <th>no_arrest_actual</th>\n",
       "      <td>3516</td>\n",
       "      <td>797</td>\n",
       "    </tr>\n",
       "    <tr>\n",
       "      <th>arrest_actual</th>\n",
       "      <td>488</td>\n",
       "      <td>301</td>\n",
       "    </tr>\n",
       "  </tbody>\n",
       "</table>\n",
       "</div>"
      ],
      "text/plain": [
       "                  predicted_no_arrest  predicted_arrest\n",
       "no_arrest_actual                 3516               797\n",
       "arrest_actual                     488               301"
      ]
     },
     "execution_count": 778,
     "metadata": {},
     "output_type": "execute_result"
    }
   ],
   "source": [
    "et_y_pred = et.predict(x_test)\n",
    "et_cm = np.array(confusion_matrix(y_test, et_y_pred))\n",
    "et_confusion = pd.DataFrame(et_cm, index=['no_arrest_actual', 'arrest_actual'], columns=['predicted_no_arrest', 'predicted_arrest'])\n",
    "et_confusion"
   ]
  },
  {
   "cell_type": "code",
   "execution_count": 780,
   "metadata": {
    "collapsed": true
   },
   "outputs": [],
   "source": [
    "et_y_score = et.predict_proba(x_test)[:,1]"
   ]
  },
  {
   "cell_type": "code",
   "execution_count": 781,
   "metadata": {
    "scrolled": true
   },
   "outputs": [
    {
     "name": "stdout",
     "output_type": "stream",
     "text": [
      "0.65682581355\n"
     ]
    }
   ],
   "source": [
    "print roc_auc_score(y_test, et_y_score)"
   ]
  },
  {
   "cell_type": "code",
   "execution_count": 784,
   "metadata": {
    "collapsed": true
   },
   "outputs": [],
   "source": [
    "et_FPR = dict()\n",
    "et_TPR = dict()\n",
    "et_ROC_AUC = dict()"
   ]
  },
  {
   "cell_type": "code",
   "execution_count": 785,
   "metadata": {
    "collapsed": true
   },
   "outputs": [],
   "source": [
    "et_FPR[1], et_TPR[1], _ = roc_curve(y_test, et_y_score)\n",
    "et_ROC_AUC[1] = auc(et_FPR[1], et_TPR[1])"
   ]
  },
  {
   "cell_type": "code",
   "execution_count": 855,
   "metadata": {},
   "outputs": [
    {
     "data": {
      "image/png": "[encoded data removed]",
      "text/plain": [
       "<matplotlib.figure.Figure at 0x136ee5d90>"
      ]
     },
     "metadata": {},
     "output_type": "display_data"
    }
   ],
   "source": [
    "plt.figure(figsize=[7,5])\n",
    "plt.plot(et_FPR[1], et_TPR[1], label='ROC curve (area = %0.3f)' % et_ROC_AUC[1], linewidth=3)\n",
    "plt.plot([0, 1], [0, 1], 'k--', linewidth=3)\n",
    "plt.xlim([0.0, 1])\n",
    "plt.ylim([0.0, 1])\n",
    "plt.xlabel('False Positive Rate', fontsize=18)\n",
    "plt.ylabel('True Positive Rate', fontsize=18)\n",
    "plt.title('Extra Trees ROC Curve for Arrest', fontsize=18)\n",
    "plt.legend(loc=\"lower right\")\n",
    "plt.show()"
   ]
  },
  {
   "cell_type": "code",
   "execution_count": 856,
   "metadata": {
    "scrolled": true
   },
   "outputs": [
    {
     "name": "stdout",
     "output_type": "stream",
     "text": [
      "Reports for Logistic Regression:\tMean accuracy score 0.645825166601  \n",
      "\n",
      "[[2836 1477]\n",
      " [ 330  459]] \n",
      "\n",
      "             precision    recall  f1-score   support\n",
      "\n",
      "          0       0.90      0.66      0.76      4313\n",
      "          1       0.24      0.58      0.34       789\n",
      "\n",
      "avg / total       0.79      0.65      0.69      5102\n",
      "\n",
      "None\n"
     ]
    }
   ],
   "source": [
    "print \"Reports for Logistic Regression:\\t\", classifications(y_test, lr.predict(x_test))"
   ]
  },
  {
   "cell_type": "code",
   "execution_count": 857,
   "metadata": {
    "scrolled": true
   },
   "outputs": [
    {
     "data": {
      "text/html": [
       "<div>\n",
       "<table border=\"1\" class=\"dataframe\">\n",
       "  <thead>\n",
       "    <tr style=\"text-align: right;\">\n",
       "      <th></th>\n",
       "      <th>predicted_no_arrest</th>\n",
       "      <th>predicted_arrest</th>\n",
       "    </tr>\n",
       "  </thead>\n",
       "  <tbody>\n",
       "    <tr>\n",
       "      <th>no_arrest_actual</th>\n",
       "      <td>2836</td>\n",
       "      <td>1477</td>\n",
       "    </tr>\n",
       "    <tr>\n",
       "      <th>arrest_actual</th>\n",
       "      <td>330</td>\n",
       "      <td>459</td>\n",
       "    </tr>\n",
       "  </tbody>\n",
       "</table>\n",
       "</div>"
      ],
      "text/plain": [
       "                  predicted_no_arrest  predicted_arrest\n",
       "no_arrest_actual                 2836              1477\n",
       "arrest_actual                     330               459"
      ]
     },
     "execution_count": 857,
     "metadata": {},
     "output_type": "execute_result"
    }
   ],
   "source": [
    "lr_y_pred = lr.predict(x_test)\n",
    "lr_cm = np.array(confusion_matrix(y_test, lr_y_pred))\n",
    "lr_confusion = pd.DataFrame(lr_cm, index=['no_arrest_actual', 'arrest_actual'], columns=['predicted_no_arrest', 'predicted_arrest'])\n",
    "lr_confusion"
   ]
  },
  {
   "cell_type": "code",
   "execution_count": 858,
   "metadata": {
    "collapsed": true
   },
   "outputs": [],
   "source": [
    "lr_y_score = lr.decision_function(x_test)"
   ]
  },
  {
   "cell_type": "code",
   "execution_count": 859,
   "metadata": {
    "scrolled": true
   },
   "outputs": [
    {
     "name": "stdout",
     "output_type": "stream",
     "text": [
      "0.64913309219\n"
     ]
    }
   ],
   "source": [
    "print roc_auc_score(y_test, lr_y_score)"
   ]
  },
  {
   "cell_type": "code",
   "execution_count": 860,
   "metadata": {
    "collapsed": true
   },
   "outputs": [],
   "source": [
    "lr_FPR = dict()\n",
    "lr_TPR = dict()\n",
    "lr_ROC_AUC = dict()"
   ]
  },
  {
   "cell_type": "code",
   "execution_count": 861,
   "metadata": {
    "collapsed": true
   },
   "outputs": [],
   "source": [
    "lr_FPR[1], lr_TPR[1], _ = roc_curve(y_test, lr_y_score)\n",
    "lr_ROC_AUC[1] = auc(lr_FPR[1], lr_TPR[1])"
   ]
  },
  {
   "cell_type": "code",
   "execution_count": 862,
   "metadata": {},
   "outputs": [
    {
     "data": {
      "image/png": "[encoded data removed]",
      "text/plain": [
       "<matplotlib.figure.Figure at 0x136ed8f50>"
      ]
     },
     "metadata": {},
     "output_type": "display_data"
    }
   ],
   "source": [
    "plt.figure(figsize=[7,5])\n",
    "plt.plot(lr_FPR[1], lr_TPR[1], label='ROC curve (area = %0.3f)' % lr_ROC_AUC[1], linewidth=3)\n",
    "plt.plot([0, 1], [0, 1], 'k--', linewidth=3)\n",
    "plt.xlim([0.0, 1])\n",
    "plt.ylim([0.0, 1])\n",
    "plt.xlabel('False Positive Rate', fontsize=18)\n",
    "plt.ylabel('True Positive Rate', fontsize=18)\n",
    "plt.title('Logistic Regression ROC Curve for Arrest', fontsize=18)\n",
    "plt.legend(loc=\"lower right\")\n",
    "plt.show()"
   ]
  },
  {
   "cell_type": "code",
   "execution_count": 863,
   "metadata": {
    "scrolled": true
   },
   "outputs": [
    {
     "name": "stdout",
     "output_type": "stream",
     "text": [
      "Reports for Bagged Logistic Regression:\tMean accuracy score 0.647589180713  \n",
      "\n",
      "[[2857 1456]\n",
      " [ 342  447]] \n",
      "\n",
      "             precision    recall  f1-score   support\n",
      "\n",
      "          0       0.89      0.66      0.76      4313\n",
      "          1       0.23      0.57      0.33       789\n",
      "\n",
      "avg / total       0.79      0.65      0.69      5102\n",
      "\n",
      "None\n"
     ]
    }
   ],
   "source": [
    "print \"Reports for Bagged Logistic Regression:\\t\", classifications(y_test, lrb.predict(x_test))"
   ]
  },
  {
   "cell_type": "code",
   "execution_count": 864,
   "metadata": {
    "scrolled": true
   },
   "outputs": [
    {
     "data": {
      "text/html": [
       "<div>\n",
       "<table border=\"1\" class=\"dataframe\">\n",
       "  <thead>\n",
       "    <tr style=\"text-align: right;\">\n",
       "      <th></th>\n",
       "      <th>predicted_no_arrest</th>\n",
       "      <th>predicted_arrest</th>\n",
       "    </tr>\n",
       "  </thead>\n",
       "  <tbody>\n",
       "    <tr>\n",
       "      <th>no_arrest_actual</th>\n",
       "      <td>2857</td>\n",
       "      <td>1456</td>\n",
       "    </tr>\n",
       "    <tr>\n",
       "      <th>arrest_actual</th>\n",
       "      <td>342</td>\n",
       "      <td>447</td>\n",
       "    </tr>\n",
       "  </tbody>\n",
       "</table>\n",
       "</div>"
      ],
      "text/plain": [
       "                  predicted_no_arrest  predicted_arrest\n",
       "no_arrest_actual                 2857              1456\n",
       "arrest_actual                     342               447"
      ]
     },
     "execution_count": 864,
     "metadata": {},
     "output_type": "execute_result"
    }
   ],
   "source": [
    "lrb_y_pred = lrb.predict(x_test)\n",
    "lrb_cm = np.array(confusion_matrix(y_test, lrb_y_pred))\n",
    "lrb_confusion = pd.DataFrame(lrb_cm, index=['no_arrest_actual', 'arrest_actual'], columns=['predicted_no_arrest', 'predicted_arrest'])\n",
    "lrb_confusion"
   ]
  },
  {
   "cell_type": "code",
   "execution_count": 865,
   "metadata": {
    "collapsed": true
   },
   "outputs": [],
   "source": [
    "lrb_y_score = lrb.decision_function(x_test)"
   ]
  },
  {
   "cell_type": "code",
   "execution_count": 866,
   "metadata": {},
   "outputs": [
    {
     "name": "stdout",
     "output_type": "stream",
     "text": [
      "0.648548894388\n"
     ]
    }
   ],
   "source": [
    "print roc_auc_score(y_test, lrb_y_score)"
   ]
  },
  {
   "cell_type": "code",
   "execution_count": 867,
   "metadata": {
    "collapsed": true
   },
   "outputs": [],
   "source": [
    "lrb_FPR = dict()\n",
    "lrb_TPR = dict()\n",
    "lrb_ROC_AUC = dict()"
   ]
  },
  {
   "cell_type": "code",
   "execution_count": 868,
   "metadata": {
    "collapsed": true
   },
   "outputs": [],
   "source": [
    "lrb_FPR[1], lrb_TPR[1], _ = roc_curve(y_test, lrb_y_score)\n",
    "lrb_ROC_AUC[1] = auc(lrb_FPR[1], lrb_TPR[1])"
   ]
  },
  {
   "cell_type": "code",
   "execution_count": 869,
   "metadata": {},
   "outputs": [
    {
     "data": {
      "image/png": "[encoded data removed]",
      "text/plain": [
       "<matplotlib.figure.Figure at 0x114467650>"
      ]
     },
     "metadata": {},
     "output_type": "display_data"
    }
   ],
   "source": [
    "plt.figure(figsize=[7,5])\n",
    "plt.plot(lrb_FPR[1], lrb_TPR[1], label='ROC curve (area = %0.3f)' % lrb_ROC_AUC[1], linewidth=3)\n",
    "plt.plot([0, 1], [0, 1], 'k--', linewidth=3)\n",
    "plt.xlim([0.0, 1])\n",
    "plt.ylim([0.0, 1])\n",
    "plt.xlabel('False Positive Rate', fontsize=18)\n",
    "plt.ylabel('True Positive Rate', fontsize=18)\n",
    "plt.title('Bagged Logistic Regression ROC Curve for Arrest', fontsize=18)\n",
    "plt.legend(loc=\"lower right\")\n",
    "plt.show()"
   ]
  },
  {
   "cell_type": "code",
   "execution_count": 870,
   "metadata": {
    "scrolled": true
   },
   "outputs": [
    {
     "name": "stdout",
     "output_type": "stream",
     "text": [
      "Reports for Voting Classifier:\tMean accuracy score 0.809290474324  \n",
      "\n",
      "[[3948  365]\n",
      " [ 608  181]] \n",
      "\n",
      "             precision    recall  f1-score   support\n",
      "\n",
      "          0       0.87      0.92      0.89      4313\n",
      "          1       0.33      0.23      0.27       789\n",
      "\n",
      "avg / total       0.78      0.81      0.79      5102\n",
      "\n",
      "None\n"
     ]
    }
   ],
   "source": [
    "print \"Reports for Voting Classifier:\\t\", classifications(y_test, vc.predict(x_test))"
   ]
  },
  {
   "cell_type": "code",
   "execution_count": 871,
   "metadata": {
    "scrolled": true
   },
   "outputs": [
    {
     "data": {
      "text/html": [
       "<div>\n",
       "<table border=\"1\" class=\"dataframe\">\n",
       "  <thead>\n",
       "    <tr style=\"text-align: right;\">\n",
       "      <th></th>\n",
       "      <th>predicted_no_arrest</th>\n",
       "      <th>predicted_arrest</th>\n",
       "    </tr>\n",
       "  </thead>\n",
       "  <tbody>\n",
       "    <tr>\n",
       "      <th>no_arrest_actual</th>\n",
       "      <td>3948</td>\n",
       "      <td>365</td>\n",
       "    </tr>\n",
       "    <tr>\n",
       "      <th>arrest_actual</th>\n",
       "      <td>608</td>\n",
       "      <td>181</td>\n",
       "    </tr>\n",
       "  </tbody>\n",
       "</table>\n",
       "</div>"
      ],
      "text/plain": [
       "                  predicted_no_arrest  predicted_arrest\n",
       "no_arrest_actual                 3948               365\n",
       "arrest_actual                     608               181"
      ]
     },
     "execution_count": 871,
     "metadata": {},
     "output_type": "execute_result"
    }
   ],
   "source": [
    "vc_y_pred = vc.predict(x_test)\n",
    "vc_cm = np.array(confusion_matrix(y_test, vc_y_pred))\n",
    "vc_confusion = pd.DataFrame(vc_cm, index=['no_arrest_actual', 'arrest_actual'], columns=['predicted_no_arrest', 'predicted_arrest'])\n",
    "vc_confusion"
   ]
  },
  {
   "cell_type": "code",
   "execution_count": 872,
   "metadata": {
    "collapsed": true
   },
   "outputs": [],
   "source": [
    "vc_y_score = vc.predict_proba(x_test)[:,1]"
   ]
  },
  {
   "cell_type": "code",
   "execution_count": 873,
   "metadata": {},
   "outputs": [
    {
     "name": "stdout",
     "output_type": "stream",
     "text": [
      "0.675481353423\n"
     ]
    }
   ],
   "source": [
    "print roc_auc_score(y_test, vc_y_score)"
   ]
  },
  {
   "cell_type": "code",
   "execution_count": 874,
   "metadata": {
    "collapsed": true
   },
   "outputs": [],
   "source": [
    "vc_FPR = dict()\n",
    "vc_TPR = dict()\n",
    "vc_ROC_AUC = dict()"
   ]
  },
  {
   "cell_type": "code",
   "execution_count": 875,
   "metadata": {},
   "outputs": [
    {
     "data": {
      "text/plain": [
       "(array([  0.00000000e+00,   2.31857176e-04,   6.95571528e-04, ...,\n",
       "          9.90030141e-01,   9.90030141e-01,   1.00000000e+00]),\n",
       " array([ 0.        ,  0.        ,  0.        , ...,  0.99873257,\n",
       "         1.        ,  1.        ]),\n",
       " array([ 1.77488209,  0.77488209,  0.75719998, ...,  0.12108653,\n",
       "         0.12103679,  0.07757145]))"
      ]
     },
     "execution_count": 875,
     "metadata": {},
     "output_type": "execute_result"
    }
   ],
   "source": [
    "roc_curve(y_test, vc_y_score)"
   ]
  },
  {
   "cell_type": "code",
   "execution_count": 876,
   "metadata": {
    "collapsed": true
   },
   "outputs": [],
   "source": [
    "vc_FPR[1], vc_TPR[1], _ = roc_curve(y_test, vc_y_score)\n",
    "vc_ROC_AUC[1] = auc(vc_FPR[1], vc_TPR[1])"
   ]
  },
  {
   "cell_type": "code",
   "execution_count": 877,
   "metadata": {},
   "outputs": [
    {
     "data": {
      "image/png": "[encoded data removed]",
      "text/plain": [
       "<matplotlib.figure.Figure at 0x13b28f910>"
      ]
     },
     "metadata": {},
     "output_type": "display_data"
    }
   ],
   "source": [
    "plt.figure(figsize=[7,5])\n",
    "plt.plot(vc_FPR[1], vc_TPR[1], label='ROC curve (area = %0.3f)' % vc_ROC_AUC[1], linewidth=3)\n",
    "plt.plot([0, 1], [0, 1], 'k--', linewidth=3)\n",
    "plt.xlim([0.0, 1])\n",
    "plt.ylim([0.0, 1])\n",
    "plt.xlabel('False Positive Rate', fontsize=18)\n",
    "plt.ylabel('True Positive Rate', fontsize=18)\n",
    "plt.title('Voting Classifier ROC Curve for Arrest', fontsize=18)\n",
    "plt.legend(loc=\"lower right\")\n",
    "plt.show()"
   ]
  },
  {
   "cell_type": "code",
   "execution_count": 878,
   "metadata": {},
   "outputs": [
    {
     "name": "stdout",
     "output_type": "stream",
     "text": [
      "Reports for Voting Classifier 2:\tMean accuracy score 0.782438259506  \n",
      "\n",
      "[[3731  582]\n",
      " [ 528  261]] \n",
      "\n",
      "             precision    recall  f1-score   support\n",
      "\n",
      "          0       0.88      0.87      0.87      4313\n",
      "          1       0.31      0.33      0.32       789\n",
      "\n",
      "avg / total       0.79      0.78      0.79      5102\n",
      "\n",
      "None\n"
     ]
    }
   ],
   "source": [
    "print \"Reports for Voting Classifier 2:\\t\", classifications(y_test, vc2.predict(x_test))"
   ]
  },
  {
   "cell_type": "code",
   "execution_count": 879,
   "metadata": {
    "scrolled": true
   },
   "outputs": [
    {
     "data": {
      "text/html": [
       "<div>\n",
       "<table border=\"1\" class=\"dataframe\">\n",
       "  <thead>\n",
       "    <tr style=\"text-align: right;\">\n",
       "      <th></th>\n",
       "      <th>predicted_no_arrest</th>\n",
       "      <th>predicted_arrest</th>\n",
       "    </tr>\n",
       "  </thead>\n",
       "  <tbody>\n",
       "    <tr>\n",
       "      <th>no_arrest_actual</th>\n",
       "      <td>3731</td>\n",
       "      <td>582</td>\n",
       "    </tr>\n",
       "    <tr>\n",
       "      <th>arrest_actual</th>\n",
       "      <td>528</td>\n",
       "      <td>261</td>\n",
       "    </tr>\n",
       "  </tbody>\n",
       "</table>\n",
       "</div>"
      ],
      "text/plain": [
       "                  predicted_no_arrest  predicted_arrest\n",
       "no_arrest_actual                 3731               582\n",
       "arrest_actual                     528               261"
      ]
     },
     "execution_count": 879,
     "metadata": {},
     "output_type": "execute_result"
    }
   ],
   "source": [
    "vc2_y_pred = vc2.predict(x_test)\n",
    "vc2_cm = np.array(confusion_matrix(y_test, vc2_y_pred))\n",
    "vc2_confusion = pd.DataFrame(vc2_cm, index=['no_arrest_actual', 'arrest_actual'], columns=['predicted_no_arrest', 'predicted_arrest'])\n",
    "vc2_confusion"
   ]
  },
  {
   "cell_type": "code",
   "execution_count": 880,
   "metadata": {
    "collapsed": true
   },
   "outputs": [],
   "source": [
    "vc2_y_score = vc2.predict_proba(x_test)[:,1]"
   ]
  },
  {
   "cell_type": "code",
   "execution_count": 881,
   "metadata": {},
   "outputs": [
    {
     "name": "stdout",
     "output_type": "stream",
     "text": [
      "0.67456538534\n"
     ]
    }
   ],
   "source": [
    "print roc_auc_score(y_test, vc2_y_score)"
   ]
  },
  {
   "cell_type": "code",
   "execution_count": 882,
   "metadata": {
    "collapsed": true
   },
   "outputs": [],
   "source": [
    "vc2_FPR = dict()\n",
    "vc2_TPR = dict()\n",
    "vc2_ROC_AUC = dict()"
   ]
  },
  {
   "cell_type": "code",
   "execution_count": 883,
   "metadata": {
    "scrolled": true
   },
   "outputs": [
    {
     "data": {
      "text/plain": [
       "(array([  0.00000000e+00,   2.31857176e-04,   6.95571528e-04, ...,\n",
       "          9.83769998e-01,   9.83769998e-01,   1.00000000e+00]),\n",
       " array([ 0.        ,  0.        ,  0.        , ...,  0.99873257,\n",
       "         1.        ,  1.        ]),\n",
       " array([ 1.81035801,  0.81035801,  0.76925337, ...,  0.14812824,\n",
       "         0.14780061,  0.08384177]))"
      ]
     },
     "execution_count": 883,
     "metadata": {},
     "output_type": "execute_result"
    }
   ],
   "source": [
    "roc_curve(y_test, vc2_y_score)"
   ]
  },
  {
   "cell_type": "code",
   "execution_count": 884,
   "metadata": {
    "collapsed": true
   },
   "outputs": [],
   "source": [
    "vc2_FPR[1], vc2_TPR[1], _ = roc_curve(y_test, vc2_y_score)\n",
    "vc2_ROC_AUC[1] = auc(vc2_FPR[1], vc2_TPR[1])"
   ]
  },
  {
   "cell_type": "code",
   "execution_count": 885,
   "metadata": {},
   "outputs": [
    {
     "data": {
      "image/png": "[encoded data removed]",
      "text/plain": [
       "<matplotlib.figure.Figure at 0x13add8c90>"
      ]
     },
     "metadata": {},
     "output_type": "display_data"
    }
   ],
   "source": [
    "plt.figure(figsize=[7,5])\n",
    "plt.plot(vc2_FPR[1], vc2_TPR[1], label='ROC curve (area = %0.3f)' % vc2_ROC_AUC[1], linewidth=3)\n",
    "plt.plot([0, 1], [0, 1], 'k--', linewidth=3)\n",
    "plt.xlim([0.0, 1])\n",
    "plt.ylim([0.0, 1])\n",
    "plt.xlabel('False Positive Rate', fontsize=18)\n",
    "plt.ylabel('True Positive Rate', fontsize=18)\n",
    "plt.title('Voting Classifier 2 ROC Curve for Arrest', fontsize=18)\n",
    "plt.legend(loc=\"lower right\")\n",
    "plt.show()"
   ]
  },
  {
   "cell_type": "code",
   "execution_count": 886,
   "metadata": {
    "scrolled": false
   },
   "outputs": [
    {
     "name": "stdout",
     "output_type": "stream",
     "text": [
      "Reports for Voting Classifier 3:\tMean accuracy score 0.726577812623  \n",
      "\n",
      "[[3337  976]\n",
      " [ 419  370]] \n",
      "\n",
      "             precision    recall  f1-score   support\n",
      "\n",
      "          0       0.89      0.77      0.83      4313\n",
      "          1       0.27      0.47      0.35       789\n",
      "\n",
      "avg / total       0.79      0.73      0.75      5102\n",
      "\n",
      "None\n"
     ]
    }
   ],
   "source": [
    "print \"Reports for Voting Classifier 3:\\t\", classifications(y_test, vc3.predict(x_test))"
   ]
  },
  {
   "cell_type": "code",
   "execution_count": 887,
   "metadata": {
    "scrolled": true
   },
   "outputs": [
    {
     "data": {
      "text/html": [
       "<div>\n",
       "<table border=\"1\" class=\"dataframe\">\n",
       "  <thead>\n",
       "    <tr style=\"text-align: right;\">\n",
       "      <th></th>\n",
       "      <th>predicted_no_arrest</th>\n",
       "      <th>predicted_arrest</th>\n",
       "    </tr>\n",
       "  </thead>\n",
       "  <tbody>\n",
       "    <tr>\n",
       "      <th>no_arrest_actual</th>\n",
       "      <td>3337</td>\n",
       "      <td>976</td>\n",
       "    </tr>\n",
       "    <tr>\n",
       "      <th>arrest_actual</th>\n",
       "      <td>419</td>\n",
       "      <td>370</td>\n",
       "    </tr>\n",
       "  </tbody>\n",
       "</table>\n",
       "</div>"
      ],
      "text/plain": [
       "                  predicted_no_arrest  predicted_arrest\n",
       "no_arrest_actual                 3337               976\n",
       "arrest_actual                     419               370"
      ]
     },
     "execution_count": 887,
     "metadata": {},
     "output_type": "execute_result"
    }
   ],
   "source": [
    "vc3_y_pred = vc3.predict(x_test)\n",
    "vc3_cm = np.array(confusion_matrix(y_test, vc3_y_pred))\n",
    "vc3_confusion = pd.DataFrame(vc3_cm, index=['no_arrest_actual', 'arrest_actual'], columns=['predicted_no_arrest', 'predicted_arrest'])\n",
    "vc3_confusion"
   ]
  },
  {
   "cell_type": "code",
   "execution_count": 888,
   "metadata": {
    "collapsed": true
   },
   "outputs": [],
   "source": [
    "vc3_y_score = vc3.predict_proba(x_test)[:,1]"
   ]
  },
  {
   "cell_type": "code",
   "execution_count": 889,
   "metadata": {},
   "outputs": [
    {
     "name": "stdout",
     "output_type": "stream",
     "text": [
      "0.672951494832\n"
     ]
    }
   ],
   "source": [
    "print roc_auc_score(y_test, vc3_y_score)"
   ]
  },
  {
   "cell_type": "code",
   "execution_count": 890,
   "metadata": {
    "collapsed": true
   },
   "outputs": [],
   "source": [
    "vc3_FPR = dict()\n",
    "vc3_TPR = dict()\n",
    "vc3_ROC_AUC = dict()"
   ]
  },
  {
   "cell_type": "code",
   "execution_count": 891,
   "metadata": {
    "scrolled": true
   },
   "outputs": [
    {
     "data": {
      "text/plain": [
       "(array([  0.00000000e+00,   2.31857176e-04,   9.27428704e-04, ...,\n",
       "          9.81683283e-01,   9.81683283e-01,   1.00000000e+00]),\n",
       " array([ 0.        ,  0.        ,  0.        , ...,  0.99873257,\n",
       "         1.        ,  1.        ]),\n",
       " array([ 1.82536647,  0.82536647,  0.80115138, ...,  0.163649  ,\n",
       "         0.16332623,  0.0949523 ]))"
      ]
     },
     "execution_count": 891,
     "metadata": {},
     "output_type": "execute_result"
    }
   ],
   "source": [
    "roc_curve(y_test, vc3_y_score)"
   ]
  },
  {
   "cell_type": "code",
   "execution_count": 892,
   "metadata": {
    "collapsed": true
   },
   "outputs": [],
   "source": [
    "vc3_FPR[1], vc3_TPR[1], _ = roc_curve(y_test, vc3_y_score)\n",
    "vc3_ROC_AUC[1] = auc(vc3_FPR[1], vc3_TPR[1])"
   ]
  },
  {
   "cell_type": "code",
   "execution_count": 893,
   "metadata": {},
   "outputs": [
    {
     "data": {
      "image/png": "[encoded data removed]",
      "text/plain": [
       "<matplotlib.figure.Figure at 0x13add9b10>"
      ]
     },
     "metadata": {},
     "output_type": "display_data"
    }
   ],
   "source": [
    "plt.figure(figsize=[7,5])\n",
    "plt.plot(vc3_FPR[1], vc3_TPR[1], label='ROC curve (area = %0.3f)' % vc3_ROC_AUC[1], linewidth=3)\n",
    "plt.plot([0, 1], [0, 1], 'k--', linewidth=3)\n",
    "plt.xlim([0.0, 1])\n",
    "plt.ylim([0.0, 1])\n",
    "plt.xlabel('False Positive Rate', fontsize=18)\n",
    "plt.ylabel('True Positive Rate', fontsize=18)\n",
    "plt.title('Voting Classifier 3 ROC Curve for Arrest', fontsize=18)\n",
    "plt.legend(loc=\"lower right\")\n",
    "plt.show()"
   ]
  },
  {
   "cell_type": "code",
   "execution_count": 894,
   "metadata": {
    "scrolled": true
   },
   "outputs": [
    {
     "name": "stdout",
     "output_type": "stream",
     "text": [
      "Reports for Voting Classifier 4:\tMean accuracy score 0.740493923951  \n",
      "\n",
      "[[3454  859]\n",
      " [ 465  324]] \n",
      "\n",
      "             precision    recall  f1-score   support\n",
      "\n",
      "          0       0.88      0.80      0.84      4313\n",
      "          1       0.27      0.41      0.33       789\n",
      "\n",
      "avg / total       0.79      0.74      0.76      5102\n",
      "\n",
      "None\n"
     ]
    }
   ],
   "source": [
    "print \"Reports for Voting Classifier 4:\\t\", classifications(y_test, vc4.predict(x_test))"
   ]
  },
  {
   "cell_type": "code",
   "execution_count": 895,
   "metadata": {
    "scrolled": true
   },
   "outputs": [
    {
     "data": {
      "text/html": [
       "<div>\n",
       "<table border=\"1\" class=\"dataframe\">\n",
       "  <thead>\n",
       "    <tr style=\"text-align: right;\">\n",
       "      <th></th>\n",
       "      <th>predicted_no_arrest</th>\n",
       "      <th>predicted_arrest</th>\n",
       "    </tr>\n",
       "  </thead>\n",
       "  <tbody>\n",
       "    <tr>\n",
       "      <th>no_arrest_actual</th>\n",
       "      <td>3454</td>\n",
       "      <td>859</td>\n",
       "    </tr>\n",
       "    <tr>\n",
       "      <th>arrest_actual</th>\n",
       "      <td>465</td>\n",
       "      <td>324</td>\n",
       "    </tr>\n",
       "  </tbody>\n",
       "</table>\n",
       "</div>"
      ],
      "text/plain": [
       "                  predicted_no_arrest  predicted_arrest\n",
       "no_arrest_actual                 3454               859\n",
       "arrest_actual                     465               324"
      ]
     },
     "execution_count": 895,
     "metadata": {},
     "output_type": "execute_result"
    }
   ],
   "source": [
    "vc4_y_pred = vc4.predict(x_test)\n",
    "vc4_cm = np.array(confusion_matrix(y_test, vc4_y_pred))\n",
    "vc4_confusion = pd.DataFrame(vc4_cm, index=['no_arrest_actual', 'arrest_actual'], columns=['predicted_no_arrest', 'predicted_arrest'])\n",
    "vc4_confusion"
   ]
  },
  {
   "cell_type": "code",
   "execution_count": 896,
   "metadata": {
    "collapsed": true
   },
   "outputs": [],
   "source": [
    "vc4_y_score = vc4.predict_proba(x_test)[:,1]"
   ]
  },
  {
   "cell_type": "code",
   "execution_count": 897,
   "metadata": {},
   "outputs": [
    {
     "name": "stdout",
     "output_type": "stream",
     "text": [
      "0.674952695553\n"
     ]
    }
   ],
   "source": [
    "print roc_auc_score(y_test, vc4_y_score)"
   ]
  },
  {
   "cell_type": "code",
   "execution_count": 898,
   "metadata": {},
   "outputs": [
    {
     "data": {
      "image/png": "[encoded data removed]",
      "text/plain": [
       "<matplotlib.figure.Figure at 0x1136ec090>"
      ]
     },
     "metadata": {},
     "output_type": "display_data"
    }
   ],
   "source": [
    "vc4_FPR = dict()\n",
    "vc4_TPR = dict()\n",
    "vc4_ROC_AUC = dict()\n",
    "\n",
    "roc_curve(y_test, vc4_y_score)  #will give arrays\n",
    "\n",
    "vc4_FPR[1], vc4_TPR[1], _ = roc_curve(y_test, vc4_y_score)\n",
    "vc4_ROC_AUC[1] = auc(vc4_FPR[1], vc4_TPR[1])\n",
    "\n",
    "#Plotting\n",
    "plt.figure(figsize=[7,5])\n",
    "plt.plot(vc4_FPR[1], vc4_TPR[1], label='ROC curve (area = %0.3f)' % vc4_ROC_AUC[1], linewidth=3)\n",
    "plt.plot([0, 1], [0, 1], 'k--', linewidth=3)\n",
    "plt.xlim([0.0, 1])\n",
    "plt.ylim([0.0, 1])\n",
    "plt.xlabel('False Positive Rate', fontsize=18)\n",
    "plt.ylabel('True Positive Rate', fontsize=18)\n",
    "plt.title('Voting Classifier 4 ROC Curve for Arrest', fontsize=18)\n",
    "plt.legend(loc=\"lower right\")\n",
    "plt.show()"
   ]
  },
  {
   "cell_type": "code",
   "execution_count": 899,
   "metadata": {
    "scrolled": true
   },
   "outputs": [
    {
     "name": "stdout",
     "output_type": "stream",
     "text": [
      "Reports for Voting Classifier 5:\tMean accuracy score 0.765778126225  \n",
      "\n",
      "[[3626  687]\n",
      " [ 508  281]] \n",
      "\n",
      "             precision    recall  f1-score   support\n",
      "\n",
      "          0       0.88      0.84      0.86      4313\n",
      "          1       0.29      0.36      0.32       789\n",
      "\n",
      "avg / total       0.79      0.77      0.78      5102\n",
      "\n",
      "None\n"
     ]
    }
   ],
   "source": [
    "print \"Reports for Voting Classifier 5:\\t\", classifications(y_test, vc5.predict(x_test))"
   ]
  },
  {
   "cell_type": "code",
   "execution_count": 900,
   "metadata": {},
   "outputs": [
    {
     "data": {
      "text/html": [
       "<div>\n",
       "<table border=\"1\" class=\"dataframe\">\n",
       "  <thead>\n",
       "    <tr style=\"text-align: right;\">\n",
       "      <th></th>\n",
       "      <th>predicted_no_arrest</th>\n",
       "      <th>predicted_arrest</th>\n",
       "    </tr>\n",
       "  </thead>\n",
       "  <tbody>\n",
       "    <tr>\n",
       "      <th>no_arrest_actual</th>\n",
       "      <td>3626</td>\n",
       "      <td>687</td>\n",
       "    </tr>\n",
       "    <tr>\n",
       "      <th>arrest_actual</th>\n",
       "      <td>508</td>\n",
       "      <td>281</td>\n",
       "    </tr>\n",
       "  </tbody>\n",
       "</table>\n",
       "</div>"
      ],
      "text/plain": [
       "                  predicted_no_arrest  predicted_arrest\n",
       "no_arrest_actual                 3626               687\n",
       "arrest_actual                     508               281"
      ]
     },
     "execution_count": 900,
     "metadata": {},
     "output_type": "execute_result"
    }
   ],
   "source": [
    "vc5_y_pred = vc5.predict(x_test)\n",
    "vc5_cm = np.array(confusion_matrix(y_test, vc5_y_pred))\n",
    "vc5_confusion = pd.DataFrame(vc5_cm, index=['no_arrest_actual', 'arrest_actual'], columns=['predicted_no_arrest', 'predicted_arrest'])\n",
    "vc5_confusion"
   ]
  },
  {
   "cell_type": "code",
   "execution_count": 901,
   "metadata": {
    "collapsed": true
   },
   "outputs": [],
   "source": [
    "vc5_y_score = vc5.predict_proba(x_test)[:,1]"
   ]
  },
  {
   "cell_type": "code",
   "execution_count": 902,
   "metadata": {},
   "outputs": [
    {
     "name": "stdout",
     "output_type": "stream",
     "text": [
      "0.67791864546\n"
     ]
    }
   ],
   "source": [
    "print roc_auc_score(y_test, vc5_y_score)"
   ]
  },
  {
   "cell_type": "code",
   "execution_count": 903,
   "metadata": {},
   "outputs": [
    {
     "data": {
      "image/png": "[encoded data removed]",
      "text/plain": [
       "<matplotlib.figure.Figure at 0x115440f10>"
      ]
     },
     "metadata": {},
     "output_type": "display_data"
    }
   ],
   "source": [
    "vc5_FPR = dict()\n",
    "vc5_TPR = dict()\n",
    "vc5_ROC_AUC = dict()\n",
    "\n",
    "roc_curve(y_test, vc5_y_score)  #will give arrays\n",
    "\n",
    "vc5_FPR[1], vc5_TPR[1], _ = roc_curve(y_test, vc5_y_score)\n",
    "vc5_ROC_AUC[1] = auc(vc5_FPR[1], vc5_TPR[1])\n",
    "\n",
    "#Plotting\n",
    "plt.figure(figsize=[7,5])\n",
    "plt.plot(vc5_FPR[1], vc5_TPR[1], label='ROC curve (area = %0.3f)' % vc5_ROC_AUC[1], linewidth=3)\n",
    "plt.plot([0, 1], [0, 1], 'k--', linewidth=3)\n",
    "plt.xlim([0.0, 1])\n",
    "plt.ylim([0.0, 1])\n",
    "plt.xlabel('False Positive Rate', fontsize=18)\n",
    "plt.ylabel('True Positive Rate', fontsize=18)\n",
    "plt.title('Voting Classifier 5 ROC Curve for Arrest', fontsize=18)\n",
    "plt.legend(loc=\"lower right\")\n",
    "plt.show()"
   ]
  },
  {
   "cell_type": "code",
   "execution_count": 904,
   "metadata": {
    "scrolled": false
   },
   "outputs": [
    {
     "name": "stdout",
     "output_type": "stream",
     "text": [
      "Reports for Voting Classifier 6:\tMean accuracy score 0.736181889455  \n",
      "\n",
      "[[3406  907]\n",
      " [ 439  350]] \n",
      "\n",
      "             precision    recall  f1-score   support\n",
      "\n",
      "          0       0.89      0.79      0.84      4313\n",
      "          1       0.28      0.44      0.34       789\n",
      "\n",
      "avg / total       0.79      0.74      0.76      5102\n",
      "\n",
      "None\n"
     ]
    }
   ],
   "source": [
    "print \"Reports for Voting Classifier 6:\\t\", classifications(y_test, vc6.predict(x_test))"
   ]
  },
  {
   "cell_type": "code",
   "execution_count": 905,
   "metadata": {
    "scrolled": true
   },
   "outputs": [
    {
     "data": {
      "text/html": [
       "<div>\n",
       "<table border=\"1\" class=\"dataframe\">\n",
       "  <thead>\n",
       "    <tr style=\"text-align: right;\">\n",
       "      <th></th>\n",
       "      <th>predicted_no_arrest</th>\n",
       "      <th>predicted_arrest</th>\n",
       "    </tr>\n",
       "  </thead>\n",
       "  <tbody>\n",
       "    <tr>\n",
       "      <th>no_arrest_actual</th>\n",
       "      <td>3406</td>\n",
       "      <td>907</td>\n",
       "    </tr>\n",
       "    <tr>\n",
       "      <th>arrest_actual</th>\n",
       "      <td>439</td>\n",
       "      <td>350</td>\n",
       "    </tr>\n",
       "  </tbody>\n",
       "</table>\n",
       "</div>"
      ],
      "text/plain": [
       "                  predicted_no_arrest  predicted_arrest\n",
       "no_arrest_actual                 3406               907\n",
       "arrest_actual                     439               350"
      ]
     },
     "execution_count": 905,
     "metadata": {},
     "output_type": "execute_result"
    }
   ],
   "source": [
    "vc6_y_pred = vc6.predict(x_test)\n",
    "vc6_cm = np.array(confusion_matrix(y_test, vc6_y_pred))\n",
    "vc6_confusion = pd.DataFrame(vc6_cm, index=['no_arrest_actual', 'arrest_actual'], columns=['predicted_no_arrest', 'predicted_arrest'])\n",
    "vc6_confusion"
   ]
  },
  {
   "cell_type": "code",
   "execution_count": 906,
   "metadata": {
    "collapsed": true
   },
   "outputs": [],
   "source": [
    "vc6_y_score = vc6.predict_proba(x_test)[:, 1]"
   ]
  },
  {
   "cell_type": "code",
   "execution_count": 907,
   "metadata": {},
   "outputs": [
    {
     "name": "stdout",
     "output_type": "stream",
     "text": [
      "0.674010573745\n"
     ]
    }
   ],
   "source": [
    "print roc_auc_score(y_test, vc6_y_score)"
   ]
  },
  {
   "cell_type": "code",
   "execution_count": 908,
   "metadata": {},
   "outputs": [
    {
     "data": {
      "image/png": "[encoded data removed]",
      "text/plain": [
       "<matplotlib.figure.Figure at 0x1136ef3d0>"
      ]
     },
     "metadata": {},
     "output_type": "display_data"
    }
   ],
   "source": [
    "vc6_FPR = dict()\n",
    "vc6_TPR = dict()\n",
    "vc6_ROC_AUC = dict()\n",
    "\n",
    "roc_curve(y_test, vc6_y_score)  #will give arrays\n",
    "\n",
    "vc6_FPR[1], vc6_TPR[1], _ = roc_curve(y_test, vc6_y_score)\n",
    "vc6_ROC_AUC[1] = auc(vc6_FPR[1], vc6_TPR[1])\n",
    "\n",
    "#Plotting\n",
    "plt.figure(figsize=[7,5])\n",
    "plt.plot(vc6_FPR[1], vc6_TPR[1], label='ROC curve (area = %0.3f)' % vc6_ROC_AUC[1], linewidth=3)\n",
    "plt.plot([0, 1], [0, 1], 'k--', linewidth=3)\n",
    "plt.xlim([0.0, 1])\n",
    "plt.ylim([0.0, 1])\n",
    "plt.xlabel('False Positive Rate', fontsize=18)\n",
    "plt.ylabel('True Positive Rate', fontsize=18)\n",
    "plt.title('Voting Classifier 6 ROC Curve for Arrest', fontsize=18)\n",
    "plt.legend(loc=\"lower right\")\n",
    "plt.show()"
   ]
  },
  {
   "cell_type": "code",
   "execution_count": null,
   "metadata": {
    "collapsed": true
   },
   "outputs": [],
   "source": []
  },
  {
   "cell_type": "code",
   "execution_count": null,
   "metadata": {
    "collapsed": true
   },
   "outputs": [],
   "source": []
  },
  {
   "cell_type": "code",
   "execution_count": null,
   "metadata": {
    "collapsed": true
   },
   "outputs": [],
   "source": []
  },
  {
   "cell_type": "code",
   "execution_count": null,
   "metadata": {
    "collapsed": true
   },
   "outputs": [],
   "source": []
  },
  {
   "cell_type": "code",
   "execution_count": null,
   "metadata": {
    "collapsed": true
   },
   "outputs": [],
   "source": []
  },
  {
   "cell_type": "code",
   "execution_count": null,
   "metadata": {
    "collapsed": true
   },
   "outputs": [],
   "source": []
  },
  {
   "cell_type": "markdown",
   "metadata": {
    "collapsed": true
   },
   "source": [
    "MANIPULATING THRESHOLDS"
   ]
  },
  {
   "cell_type": "code",
   "execution_count": 651,
   "metadata": {},
   "outputs": [
    {
     "name": "stdout",
     "output_type": "stream",
     "text": [
      "   class_0_prediction  class_1_prediction\n",
      "0            0.602301            0.397699\n",
      "1            0.558258            0.441742\n",
      "2            0.694309            0.305691\n",
      "3            0.733623            0.266377\n",
      "4            0.631127            0.368873\n",
      "5            0.738058            0.261942\n",
      "6            0.695637            0.304363\n",
      "7            0.447983            0.552017\n",
      "8            0.590419            0.409581\n",
      "9            0.639363            0.360637\n"
     ]
    }
   ],
   "source": [
    "df_predictions = pd.DataFrame(rfcb.predict_proba(x_test), columns=['class_0_prediction','class_1_prediction'])\n",
    "print(df_predictions.iloc[0:10])"
   ]
  },
  {
   "cell_type": "code",
   "execution_count": 652,
   "metadata": {},
   "outputs": [
    {
     "name": "stdout",
     "output_type": "stream",
     "text": [
      "   class_0_prediction  class_1_prediction  prediction_class_thresh50\n",
      "0            0.602301            0.397699                          0\n",
      "1            0.558258            0.441742                          0\n",
      "2            0.694309            0.305691                          0\n",
      "3            0.733623            0.266377                          0\n",
      "4            0.631127            0.368873                          0\n",
      "5            0.738058            0.261942                          0\n",
      "6            0.695637            0.304363                          0\n",
      "7            0.447983            0.552017                          1\n",
      "8            0.590419            0.409581                          0\n",
      "9            0.639363            0.360637                          0\n"
     ]
    }
   ],
   "source": [
    "df_predictions['prediction_class_thresh50'] = rfcb_y_pred\n",
    "print(df_predictions.iloc[0:10])"
   ]
  },
  {
   "cell_type": "code",
   "execution_count": 653,
   "metadata": {
    "scrolled": true
   },
   "outputs": [
    {
     "name": "stdout",
     "output_type": "stream",
     "text": [
      "   class_0_pp  class_1_pp  pred_class_thresh50  pred_class_thresh40  \\\n",
      "0    0.782410    0.217590                    0                    0   \n",
      "1    0.606180    0.393820                    0                    0   \n",
      "2    0.666631    0.333369                    0                    0   \n",
      "3    0.699214    0.300786                    0                    0   \n",
      "4    0.652911    0.347089                    0                    0   \n",
      "5    0.693497    0.306503                    0                    0   \n",
      "6    0.864404    0.135596                    0                    0   \n",
      "7    0.743375    0.256625                    0                    0   \n",
      "8    0.690500    0.309500                    0                    0   \n",
      "9    0.732543    0.267457                    0                    0   \n",
      "\n",
      "   pred_class_thresh35  pred_class_thresh45  \n",
      "0                    0                    0  \n",
      "1                    1                    0  \n",
      "2                    0                    0  \n",
      "3                    0                    0  \n",
      "4                    0                    0  \n",
      "5                    0                    0  \n",
      "6                    0                    0  \n",
      "7                    0                    0  \n",
      "8                    0                    0  \n",
      "9                    0                    0  \n"
     ]
    }
   ],
   "source": [
    "df_predictions['prediction_class_thresh40'] = [1 if x >= 0.40 else 0 for x in df_predictions.class_1_prediction.values]\n",
    "print(y_pp.iloc[0:10])"
   ]
  },
  {
   "cell_type": "code",
   "execution_count": 654,
   "metadata": {
    "scrolled": true
   },
   "outputs": [
    {
     "name": "stdout",
     "output_type": "stream",
     "text": [
      "   class_0_prediction  class_1_prediction  prediction_class_thresh50  \\\n",
      "0            0.602301            0.397699                          0   \n",
      "1            0.558258            0.441742                          0   \n",
      "2            0.694309            0.305691                          0   \n",
      "3            0.733623            0.266377                          0   \n",
      "4            0.631127            0.368873                          0   \n",
      "5            0.738058            0.261942                          0   \n",
      "6            0.695637            0.304363                          0   \n",
      "7            0.447983            0.552017                          1   \n",
      "8            0.590419            0.409581                          0   \n",
      "9            0.639363            0.360637                          0   \n",
      "\n",
      "   prediction_class_thresh40  pred_class_thresh35  \n",
      "0                          0                    1  \n",
      "1                          1                    1  \n",
      "2                          0                    0  \n",
      "3                          0                    0  \n",
      "4                          0                    1  \n",
      "5                          0                    0  \n",
      "6                          0                    0  \n",
      "7                          1                    1  \n",
      "8                          1                    1  \n",
      "9                          0                    1  \n"
     ]
    }
   ],
   "source": [
    "df_predictions['pred_class_thresh35'] = [1 if x >= 0.35 else 0 for x in df_predictions.class_1_prediction.values]\n",
    "print df_predictions.iloc[0:10]"
   ]
  },
  {
   "cell_type": "code",
   "execution_count": 655,
   "metadata": {
    "scrolled": true
   },
   "outputs": [
    {
     "name": "stdout",
     "output_type": "stream",
     "text": [
      "   class_0_prediction  class_1_prediction  prediction_class_thresh50  \\\n",
      "0            0.602301            0.397699                          0   \n",
      "1            0.558258            0.441742                          0   \n",
      "2            0.694309            0.305691                          0   \n",
      "3            0.733623            0.266377                          0   \n",
      "4            0.631127            0.368873                          0   \n",
      "5            0.738058            0.261942                          0   \n",
      "6            0.695637            0.304363                          0   \n",
      "7            0.447983            0.552017                          1   \n",
      "8            0.590419            0.409581                          0   \n",
      "9            0.639363            0.360637                          0   \n",
      "\n",
      "   prediction_class_thresh40  pred_class_thresh35  pred_class_thresh45  \n",
      "0                          0                    1                    0  \n",
      "1                          1                    1                    0  \n",
      "2                          0                    0                    0  \n",
      "3                          0                    0                    0  \n",
      "4                          0                    1                    0  \n",
      "5                          0                    0                    0  \n",
      "6                          0                    0                    0  \n",
      "7                          1                    1                    1  \n",
      "8                          1                    1                    0  \n",
      "9                          0                    1                    0  \n"
     ]
    }
   ],
   "source": [
    "df_predictions['pred_class_thresh45'] = [1 if x >= 0.45 else 0 for x in df_predictions.class_1_prediction.values]\n",
    "print df_predictions.iloc[0:10]"
   ]
  },
  {
   "cell_type": "code",
   "execution_count": 656,
   "metadata": {
    "scrolled": true
   },
   "outputs": [
    {
     "data": {
      "text/html": [
       "<div>\n",
       "<table border=\"1\" class=\"dataframe\">\n",
       "  <thead>\n",
       "    <tr style=\"text-align: right;\">\n",
       "      <th></th>\n",
       "      <th>predicted_no_arrest</th>\n",
       "      <th>predicted_arrest</th>\n",
       "    </tr>\n",
       "  </thead>\n",
       "  <tbody>\n",
       "    <tr>\n",
       "      <th>no_arrest_actual</th>\n",
       "      <td>3250</td>\n",
       "      <td>1025</td>\n",
       "    </tr>\n",
       "    <tr>\n",
       "      <th>arrest_actual</th>\n",
       "      <td>419</td>\n",
       "      <td>408</td>\n",
       "    </tr>\n",
       "  </tbody>\n",
       "</table>\n",
       "</div>"
      ],
      "text/plain": [
       "                  predicted_no_arrest  predicted_arrest\n",
       "no_arrest_actual                 3250              1025\n",
       "arrest_actual                     419               408"
      ]
     },
     "execution_count": 656,
     "metadata": {},
     "output_type": "execute_result"
    }
   ],
   "source": [
    "matrix45 = np.array(confusion_matrix(y_test, df_predictions.pred_class_thresh45.values))\n",
    "confusion45 = pd.DataFrame(matrix45, index=['no_arrest_actual', 'arrest_actual'], columns=['predicted_no_arrest', 'predicted_arrest'])\n",
    "confusion45"
   ]
  },
  {
   "cell_type": "code",
   "execution_count": 657,
   "metadata": {
    "scrolled": true
   },
   "outputs": [
    {
     "name": "stdout",
     "output_type": "stream",
     "text": [
      "Reports for Bagged Random Forest:\tMean accuracy score 0.71697373579  \n",
      "\n",
      "[[3250 1025]\n",
      " [ 419  408]] \n",
      "\n",
      "             precision    recall  f1-score   support\n",
      "\n",
      "          0       0.89      0.76      0.82      4275\n",
      "          1       0.28      0.49      0.36       827\n",
      "\n",
      "avg / total       0.79      0.72      0.74      5102\n",
      "\n",
      "None\n"
     ]
    }
   ],
   "source": [
    "print \"Reports for Bagged Random Forest:\\t\", classifications(y_test, df_predictions.pred_class_thresh45.values)"
   ]
  },
  {
   "cell_type": "code",
   "execution_count": 658,
   "metadata": {
    "scrolled": true
   },
   "outputs": [
    {
     "name": "stdout",
     "output_type": "stream",
     "text": [
      "0.626791686997\n"
     ]
    }
   ],
   "source": [
    "print roc_auc_score(y_test, df_predictions.pred_class_thresh45.values)"
   ]
  },
  {
   "cell_type": "code",
   "execution_count": 659,
   "metadata": {},
   "outputs": [
    {
     "ename": "AttributeError",
     "evalue": "'DataFrame' object has no attribute 'pred_class_thresh40'",
     "output_type": "error",
     "traceback": [
      "\u001b[0;31m---------------------------------------------------------------------------\u001b[0m",
      "\u001b[0;31mAttributeError\u001b[0m                            Traceback (most recent call last)",
      "\u001b[0;32m<ipython-input-659-bab7c77a0d15>\u001b[0m in \u001b[0;36m<module>\u001b[0;34m()\u001b[0m\n\u001b[0;32m----> 1\u001b[0;31m \u001b[0mmatrix40\u001b[0m \u001b[0;34m=\u001b[0m \u001b[0mnp\u001b[0m\u001b[0;34m.\u001b[0m\u001b[0marray\u001b[0m\u001b[0;34m(\u001b[0m\u001b[0mconfusion_matrix\u001b[0m\u001b[0;34m(\u001b[0m\u001b[0my_test\u001b[0m\u001b[0;34m,\u001b[0m \u001b[0mdf_predictions\u001b[0m\u001b[0;34m.\u001b[0m\u001b[0mpred_class_thresh40\u001b[0m\u001b[0;34m.\u001b[0m\u001b[0mvalues\u001b[0m\u001b[0;34m)\u001b[0m\u001b[0;34m)\u001b[0m\u001b[0;34m\u001b[0m\u001b[0m\n\u001b[0m\u001b[1;32m      2\u001b[0m \u001b[0mconfusion40\u001b[0m \u001b[0;34m=\u001b[0m \u001b[0mpd\u001b[0m\u001b[0;34m.\u001b[0m\u001b[0mDataFrame\u001b[0m\u001b[0;34m(\u001b[0m\u001b[0mmatrix40\u001b[0m\u001b[0;34m,\u001b[0m \u001b[0mindex\u001b[0m\u001b[0;34m=\u001b[0m\u001b[0;34m[\u001b[0m\u001b[0;34m'no_arrest_actual'\u001b[0m\u001b[0;34m,\u001b[0m \u001b[0;34m'arrest_actual'\u001b[0m\u001b[0;34m]\u001b[0m\u001b[0;34m,\u001b[0m \u001b[0mcolumns\u001b[0m\u001b[0;34m=\u001b[0m\u001b[0;34m[\u001b[0m\u001b[0;34m'predicted_no_arrest'\u001b[0m\u001b[0;34m,\u001b[0m \u001b[0;34m'predicted_arrest'\u001b[0m\u001b[0;34m]\u001b[0m\u001b[0;34m)\u001b[0m\u001b[0;34m\u001b[0m\u001b[0m\n\u001b[1;32m      3\u001b[0m \u001b[0mconfusion40\u001b[0m\u001b[0;34m\u001b[0m\u001b[0m\n",
      "\u001b[0;32m/Users/heatherrobbins/anaconda/lib/python2.7/site-packages/pandas/core/generic.pyc\u001b[0m in \u001b[0;36m__getattr__\u001b[0;34m(self, name)\u001b[0m\n\u001b[1;32m   2742\u001b[0m             \u001b[0;32mif\u001b[0m \u001b[0mname\u001b[0m \u001b[0;32min\u001b[0m \u001b[0mself\u001b[0m\u001b[0;34m.\u001b[0m\u001b[0m_info_axis\u001b[0m\u001b[0;34m:\u001b[0m\u001b[0;34m\u001b[0m\u001b[0m\n\u001b[1;32m   2743\u001b[0m                 \u001b[0;32mreturn\u001b[0m \u001b[0mself\u001b[0m\u001b[0;34m[\u001b[0m\u001b[0mname\u001b[0m\u001b[0;34m]\u001b[0m\u001b[0;34m\u001b[0m\u001b[0m\n\u001b[0;32m-> 2744\u001b[0;31m             \u001b[0;32mreturn\u001b[0m \u001b[0mobject\u001b[0m\u001b[0;34m.\u001b[0m\u001b[0m__getattribute__\u001b[0m\u001b[0;34m(\u001b[0m\u001b[0mself\u001b[0m\u001b[0;34m,\u001b[0m \u001b[0mname\u001b[0m\u001b[0;34m)\u001b[0m\u001b[0;34m\u001b[0m\u001b[0m\n\u001b[0m\u001b[1;32m   2745\u001b[0m \u001b[0;34m\u001b[0m\u001b[0m\n\u001b[1;32m   2746\u001b[0m     \u001b[0;32mdef\u001b[0m \u001b[0m__setattr__\u001b[0m\u001b[0;34m(\u001b[0m\u001b[0mself\u001b[0m\u001b[0;34m,\u001b[0m \u001b[0mname\u001b[0m\u001b[0;34m,\u001b[0m \u001b[0mvalue\u001b[0m\u001b[0;34m)\u001b[0m\u001b[0;34m:\u001b[0m\u001b[0;34m\u001b[0m\u001b[0m\n",
      "\u001b[0;31mAttributeError\u001b[0m: 'DataFrame' object has no attribute 'pred_class_thresh40'"
     ]
    }
   ],
   "source": [
    "matrix40 = np.array(confusion_matrix(y_test, df_predictions.pred_class_thresh40.values))\n",
    "confusion40 = pd.DataFrame(matrix40, index=['no_arrest_actual', 'arrest_actual'], columns=['predicted_no_arrest', 'predicted_arrest'])\n",
    "confusion40"
   ]
  },
  {
   "cell_type": "code",
   "execution_count": null,
   "metadata": {
    "collapsed": true
   },
   "outputs": [],
   "source": []
  },
  {
   "cell_type": "code",
   "execution_count": null,
   "metadata": {
    "collapsed": true,
    "scrolled": false
   },
   "outputs": [],
   "source": [
    "# matrix40 = np.array(confusion_matrix(y_test, df_predictions.pred_class_thresh40.values))\n",
    "# confusion40 = pd.DataFrame(matrix40, index=['no_arrest_actual', 'arrest_actual'], columns=['predicted_no_arrest', 'predicted_arrest'])\n",
    "# confusion40"
   ]
  },
  {
   "cell_type": "code",
   "execution_count": null,
   "metadata": {
    "collapsed": true
   },
   "outputs": [],
   "source": [
    "print roc_auc_score(y_test, df_predictions.pred_class_thresh40.values)"
   ]
  },
  {
   "cell_type": "code",
   "execution_count": null,
   "metadata": {
    "collapsed": true
   },
   "outputs": [],
   "source": [
    "matrix35 = np.array(confusion_matrix(y_test, y_pp.pred_class_thresh35.values))\n",
    "confusion35 = pd.DataFrame(matrix35, index=['no_arrest_actual', 'arrest_actual'], columns=['predicted_no_arrest', 'predicted_arrest'])\n",
    "confusion35"
   ]
  },
  {
   "cell_type": "code",
   "execution_count": null,
   "metadata": {
    "collapsed": true
   },
   "outputs": [],
   "source": []
  },
  {
   "cell_type": "code",
   "execution_count": null,
   "metadata": {
    "collapsed": true
   },
   "outputs": [],
   "source": []
  },
  {
   "cell_type": "code",
   "execution_count": null,
   "metadata": {
    "collapsed": true
   },
   "outputs": [],
   "source": []
  },
  {
   "cell_type": "code",
   "execution_count": null,
   "metadata": {
    "collapsed": true
   },
   "outputs": [],
   "source": []
  },
  {
   "cell_type": "code",
   "execution_count": null,
   "metadata": {
    "collapsed": true
   },
   "outputs": [],
   "source": []
  },
  {
   "cell_type": "code",
   "execution_count": null,
   "metadata": {
    "collapsed": true
   },
   "outputs": [],
   "source": []
  },
  {
   "cell_type": "code",
   "execution_count": null,
   "metadata": {
    "collapsed": true
   },
   "outputs": [],
   "source": []
  },
  {
   "cell_type": "code",
   "execution_count": null,
   "metadata": {
    "collapsed": true
   },
   "outputs": [],
   "source": []
  },
  {
   "cell_type": "code",
   "execution_count": null,
   "metadata": {
    "collapsed": true
   },
   "outputs": [],
   "source": []
  },
  {
   "cell_type": "code",
   "execution_count": null,
   "metadata": {
    "collapsed": true
   },
   "outputs": [],
   "source": []
  },
  {
   "cell_type": "code",
   "execution_count": null,
   "metadata": {
    "collapsed": true
   },
   "outputs": [],
   "source": [
    "print \"Reports for LR:\\t\", classifications(y_test, lr.predict(x_test))"
   ]
  },
  {
   "cell_type": "code",
   "execution_count": null,
   "metadata": {
    "collapsed": true
   },
   "outputs": [],
   "source": [
    "print \"Reports for GBC:\\t\", classifications(y_test, gbc.predict(x_test))"
   ]
  },
  {
   "cell_type": "code",
   "execution_count": null,
   "metadata": {
    "collapsed": true
   },
   "outputs": [],
   "source": [
    "print \"Reports for AB:\\t\", classifications(y_test, ab.predict(x_test))"
   ]
  },
  {
   "cell_type": "code",
   "execution_count": null,
   "metadata": {
    "collapsed": true
   },
   "outputs": [],
   "source": [
    "ab_y_pred = ab.predict(x_test)\n",
    "ab_matrix = np.array(confusion_matrix(y_test, ab_y_pred ))\n",
    "ab_confusion = pd.DataFrame(ab_matrix, index=['no_arrest_actual', 'arrest_actual'], columns=['predicted_no_arrest', 'predicted_arrest'])\n",
    "ab_confusion"
   ]
  },
  {
   "cell_type": "code",
   "execution_count": null,
   "metadata": {
    "collapsed": true
   },
   "outputs": [],
   "source": []
  },
  {
   "cell_type": "code",
   "execution_count": null,
   "metadata": {
    "collapsed": true
   },
   "outputs": [],
   "source": []
  },
  {
   "cell_type": "code",
   "execution_count": null,
   "metadata": {
    "collapsed": true
   },
   "outputs": [],
   "source": []
  },
  {
   "cell_type": "code",
   "execution_count": null,
   "metadata": {
    "collapsed": true
   },
   "outputs": [],
   "source": []
  },
  {
   "cell_type": "code",
   "execution_count": null,
   "metadata": {
    "collapsed": true
   },
   "outputs": [],
   "source": [
    "rfc_y_pred = rfc.predict(x_test)\n",
    "rfc_matrix = np.array(confusion_matrix(y_test, rfc_y_pred ))\n",
    "rfc_confusion = pd.DataFrame(rfc_matrix, index=['no_arrest_actual', 'arrest_actual'], columns=['predicted_no_arrest', 'predicted_arrest'])\n",
    "rfc_confusion"
   ]
  },
  {
   "cell_type": "code",
   "execution_count": null,
   "metadata": {
    "collapsed": true
   },
   "outputs": [],
   "source": [
    "def classifications(y_test, y_predict):\n",
    "    print 'Mean accuracy score %s ' % accuracy_score(y_test, y_predict), '\\n'\n",
    "    print confusion_matrix(y_test, y_predict), '\\n'\n",
    "    print classification_report(y_test, y_predict)"
   ]
  },
  {
   "cell_type": "code",
   "execution_count": null,
   "metadata": {
    "collapsed": true,
    "scrolled": true
   },
   "outputs": [],
   "source": [
    "print \"Reports for RFC:\\t\", classifications(y_test, rfc.predict(x_test))"
   ]
  },
  {
   "cell_type": "code",
   "execution_count": null,
   "metadata": {
    "collapsed": true
   },
   "outputs": [],
   "source": [
    "et_y_pred = et.predict(x_test)\n",
    "et_matrix = np.array(confusion_matrix(y_test, et_y_pred ))\n",
    "et_confusion = pd.DataFrame(et_matrix, index=['no_arrest_actual', 'arrest_actual'], columns=['predicted_no_arrest', 'predicted_arrest'])\n",
    "et_confusion"
   ]
  },
  {
   "cell_type": "code",
   "execution_count": null,
   "metadata": {
    "collapsed": true
   },
   "outputs": [],
   "source": [
    "print \"Reports for ET:\\t\", classifications(y_test, et.predict(x_test))"
   ]
  },
  {
   "cell_type": "code",
   "execution_count": null,
   "metadata": {
    "collapsed": true
   },
   "outputs": [],
   "source": []
  },
  {
   "cell_type": "code",
   "execution_count": null,
   "metadata": {
    "collapsed": true
   },
   "outputs": [],
   "source": []
  },
  {
   "cell_type": "code",
   "execution_count": null,
   "metadata": {
    "collapsed": true
   },
   "outputs": [],
   "source": []
  }
 ],
 "metadata": {
  "kernelspec": {
   "display_name": "Python 2",
   "language": "python",
   "name": "python2"
  },
  "language_info": {
   "codemirror_mode": {
    "name": "ipython",
    "version": 2
   },
   "file_extension": ".py",
   "mimetype": "text/x-python",
   "name": "python",
   "nbconvert_exporter": "python",
   "pygments_lexer": "ipython2",
   "version": "2.7.13"
  }
 },
 "nbformat": 4,
 "nbformat_minor": 2
}
